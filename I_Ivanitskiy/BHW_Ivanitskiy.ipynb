{
 "cells": [
  {
   "cell_type": "markdown",
   "metadata": {},
   "source": [
    "# Илья Иваницкий"
   ]
  },
  {
   "cell_type": "code",
   "execution_count": 554,
   "metadata": {
    "collapsed": true
   },
   "outputs": [],
   "source": [
    "import pandas as pd\n",
    "import numpy as np\n",
    "import random as rd"
   ]
  },
  {
   "cell_type": "code",
   "execution_count": 555,
   "metadata": {
    "collapsed": false
   },
   "outputs": [],
   "source": [
    "source = 'car.data'\n",
    "#source = 'SPECT.test'\n",
    "k_ = 7\n",
    "all_data = np.array(pd.read_csv(source,header=None))"
   ]
  },
  {
   "cell_type": "code",
   "execution_count": 556,
   "metadata": {
    "collapsed": false
   },
   "outputs": [],
   "source": [
    "def k_fold_cross_validation(X, K, randomise = True):\n",
    "    if randomise: from random import shuffle; \n",
    "    X=list(X)\n",
    "    shuffle(X)\n",
    "    for k in range(K):\n",
    "        training = [x for i, x in enumerate(X) if i % K != k]\n",
    "        validation = [x for i, x in enumerate(X) if i % K == k]\n",
    "        yield training, validation, k"
   ]
  },
  {
   "cell_type": "code",
   "execution_count": 557,
   "metadata": {
    "collapsed": false
   },
   "outputs": [],
   "source": [
    "for training, validation, k in k_fold_cross_validation(all_data, k_, True):  \n",
    "    pd.DataFrame(training).to_csv(\"%s_train_%d.csv\" % (source, k),index = False)\n",
    "    pd.DataFrame(validation).to_csv(\"%s_test_%d.csv\" % (source, k),index = False)"
   ]
  },
  {
   "cell_type": "code",
   "execution_count": 558,
   "metadata": {
    "collapsed": true
   },
   "outputs": [],
   "source": [
    "import numpy as np\n",
    "import datetime\n",
    "from sklearn.metrics import accuracy_score\n",
    "from sklearn.metrics import roc_auc_score\n",
    "from sklearn.metrics import precision_score\n",
    "from sklearn.metrics import recall_score\n",
    "from sklearn.metrics import f1_score"
   ]
  },
  {
   "cell_type": "code",
   "execution_count": 559,
   "metadata": {
    "collapsed": false
   },
   "outputs": [],
   "source": [
    "attrib_names = list(range(all_data.shape[1]))"
   ]
  },
  {
   "cell_type": "code",
   "execution_count": 560,
   "metadata": {
    "collapsed": true
   },
   "outputs": [],
   "source": [
    "def make_intent(example):\n",
    "    global attrib_names\n",
    "    return set([str(i)+':'+str(k) for i, k in zip(attrib_names, example)])"
   ]
  },
  {
   "cell_type": "code",
   "execution_count": 561,
   "metadata": {
    "collapsed": true
   },
   "outputs": [],
   "source": [
    "def read_files(indexes_train, indexes_test):\n",
    "    \n",
    "    plus=[]\n",
    "    minus=[]\n",
    "    x_test=[]\n",
    "    y_test=[]\n",
    "\n",
    "    for index in indexes_train:\n",
    "        index=str(index)\n",
    "        q = open(source+\"_train_\" + index + \".csv\", \"r\")\n",
    "        if source == 'car.data':\n",
    "            positive = \"acc\"\n",
    "            negative = \"unacc\"\n",
    "        else:\n",
    "            positive = \"1\"\n",
    "            negative = \"0\"\n",
    "        train = [a.strip().split(\",\") for a in q]\n",
    "        _plus = [make_intent(a[:-1]) for a in train if a[-1] != negative]\n",
    "        _minus = [make_intent(a[:-1]) for a in train if a[-1] == negative]\n",
    "        q.close()\n",
    "        plus+=_plus\n",
    "        minus+=_minus   \n",
    "        \n",
    "    for index in indexes_test:\n",
    "        index=str(index)\n",
    "        w = open(source+\"_test_\" + index + \".csv\", \"r\")\n",
    "        _unknown = [a.strip().split(\",\") for a in w]\n",
    "\n",
    "        _x_test = [make_intent(a[:-1]) for a in _unknown]\n",
    "        _y_test = [1 if a[-1] != negative else 0 for a in _unknown ]\n",
    "        del _x_test[0]\n",
    "        del _y_test[0]\n",
    "        w.close()\n",
    "        x_test+=_x_test\n",
    "        y_test+=_y_test\n",
    "        \n",
    "    return plus, minus, x_test, y_test"
   ]
  },
  {
   "cell_type": "code",
   "execution_count": 562,
   "metadata": {
    "collapsed": false
   },
   "outputs": [],
   "source": [
    "plus, minus, x_test, y_test = read_files([0],[0])"
   ]
  },
  {
   "cell_type": "code",
   "execution_count": 563,
   "metadata": {
    "collapsed": true
   },
   "outputs": [],
   "source": [
    "from IPython.display import clear_output as clr"
   ]
  },
  {
   "cell_type": "code",
   "execution_count": 564,
   "metadata": {
    "collapsed": false
   },
   "outputs": [],
   "source": [
    "print('a')\n",
    "clr()"
   ]
  },
  {
   "cell_type": "code",
   "execution_count": 565,
   "metadata": {
    "collapsed": false
   },
   "outputs": [
    {
     "data": {
      "text/plain": [
       "(444, 1038, 247)"
      ]
     },
     "execution_count": 565,
     "metadata": {},
     "output_type": "execute_result"
    }
   ],
   "source": [
    "len(plus), len(minus), len(x_test)"
   ]
  },
  {
   "cell_type": "markdown",
   "metadata": {},
   "source": [
    "# 1.\n",
    "Алгоритм основан на нормированной сумме мощности пересечения признаков неизвестного примера с примерами-(+) и примерами-(-). Неизвестный пример относится к тому набору, где эта сумма больша."
   ]
  },
  {
   "cell_type": "code",
   "execution_count": 566,
   "metadata": {
    "collapsed": true
   },
   "outputs": [],
   "source": [
    "import os\n",
    "import math"
   ]
  },
  {
   "cell_type": "code",
   "execution_count": 567,
   "metadata": {
    "collapsed": false
   },
   "outputs": [],
   "source": [
    "def intersection_classif(plus, minus, x_test, y_test, threshold = 0,pow_ = 1):\n",
    "    y_pred=[]\n",
    "    inv_len_plus  = 1./ len(plus) \n",
    "    inv_len_minus = 1./ len(minus) \n",
    "    inv_len_pos = 1./ len(plus[0])\n",
    "    for i in x_test:\n",
    "        unkn_set=i\n",
    "        pos=0\n",
    "        neg=0\n",
    "        for j in plus:\n",
    "            pos_set=j\n",
    "            res=pos_set & unkn_set\n",
    "            #pos+=math.pow(float(len(res)), pow_)*inv_len_pos\n",
    "            pos+=math.pow(float(len(res)),len(res))*inv_len_pos\n",
    "        pos = pos * inv_len_plus\n",
    "        for j in minus:\n",
    "            neg_set=j\n",
    "            res=neg_set & unkn_set\n",
    "            #neg+=math.pow(float(len(res)), pow_)* inv_len_pos\n",
    "            neg+=math.pow(float(len(res)),len(res))* inv_len_pos\n",
    "            \n",
    "        neg = neg *inv_len_minus\n",
    "\n",
    "        if (neg - pos > threshold):\n",
    "            y_pred.append(0)\n",
    "        else:\n",
    "            if (neg - pos < -threshold):\n",
    "                y_pred.append(1)\n",
    "            else:\n",
    "                    tresh=4 # порог вычисленный.\n",
    "                    #print('in killer feature')\n",
    "                    for j in plus:\n",
    "                        #print('first_cycle'+str(j))\n",
    "                        pos_set=j\n",
    "                        res=pos_set & unkn_set\n",
    "                        if len(res)!=0:\n",
    "                            closure1=0.0\n",
    "                            for k in plus:\n",
    "                                if k.issuperset(res) and k!=j:\n",
    "                                    closure1+=1\n",
    "                            if closure1>tresh:\n",
    "                                pos+= float(closure1) * inv_len_plus * float(len(res)) * inv_len_pos\n",
    "                    pos=  pos * inv_len_plus\n",
    "\n",
    "                    for j in minus:\n",
    "                        #print('secon_cycle'+str(j))\n",
    "                        neg_set=j\n",
    "                        res=neg_set & unkn_set\n",
    "                        if len(res)!=0:\n",
    "                            closure2=0\n",
    "                            for k in minus :\n",
    "                                if k.issuperset(res) and k!=j:\n",
    "                                    closure2+=1\n",
    "                            if closure2>tresh:        \n",
    "                                neg+=float(closure2) * inv_len_minus * float(len(res)) *inv_len_pos\n",
    "                    neg = neg * inv_len_minus\n",
    "\n",
    "                    if (pos < neg):\n",
    "                        y_pred.append(0)\n",
    "                    else:\n",
    "                        y_pred.append(1)\n",
    "            \n",
    "            \n",
    "\n",
    "\n",
    "    y_pred=np.array(y_pred)\n",
    "    y_test=np.array(y_test)\n",
    "    \n",
    "    return print_metris(y_test, y_pred)"
   ]
  },
  {
   "cell_type": "markdown",
   "metadata": {},
   "source": [
    "\n",
    "# 2.\n",
    "\n",
    "\n",
    "#### Простой алгоритм. \n",
    "\n",
    "Пересекаем с положительным и проверяем чтобы пересечение не вкладывалось ни в одно отрицательное. если все так, то начисляем голос в виде \"относительной мощности пересечения\".  \n",
    "\n",
    "То же самое для отрицательных. "
   ]
  },
  {
   "cell_type": "code",
   "execution_count": 568,
   "metadata": {
    "collapsed": false
   },
   "outputs": [],
   "source": [
    "def intersection_with_contra_classif(plus, minus, x_test, y_test, threshold = 0,pow_ = 1):\n",
    "    y_pred=[]\n",
    "    counter=0\n",
    "    inv_len_plus  = 1./ len(plus) \n",
    "    inv_len_minus = 1./ len(minus)\n",
    "    inv_len_pos = 1./ len(plus[0])\n",
    "    for i in x_test:\n",
    "        counter+=1\n",
    "        unkn_set=i\n",
    "        pos=0\n",
    "        neg=0\n",
    "\n",
    "        for j in plus:\n",
    "            pos_set=j\n",
    "            res=pos_set & unkn_set\n",
    "            closure=0\n",
    "            for k in minus:\n",
    "                if k.issuperset(res):\n",
    "                    closure+=1\n",
    "                    break\n",
    "                    \n",
    "            if closure == 0:\n",
    "                #pos+=math.pow(float(len(res)),pow_) *inv_len_pos\n",
    "                pos+=math.pow(float(len(res)),len(res)) *inv_len_pos\n",
    "        pos= pos * inv_len_plus\n",
    "\n",
    "        for j in minus:\n",
    "            neg_set=j\n",
    "            res=neg_set & unkn_set\n",
    "            closure=0\n",
    "            for k in plus:\n",
    "                if k.issuperset(res):\n",
    "                    closure+=1\n",
    "                    break\n",
    "                    \n",
    "            if closure==0:\n",
    "                #neg+=math.pow(float(len(res)),pow_)  *inv_len_pos\n",
    "                neg+=math.pow(float(len(res)),len(res))  *inv_len_pos\n",
    "        neg=neg*inv_len_minus \n",
    "\n",
    "#        if (counter % 10 == 0):\n",
    "#            print 'done {} %'.format( round(float(counter)/len(x_test)*100, 2) )\n",
    "\n",
    "        if (neg - pos > threshold):\n",
    "            y_pred.append(0)\n",
    "        else:\n",
    "            if (neg - pos < -threshold):\n",
    "                y_pred.append(1)\n",
    "            else:\n",
    "                # берем алгоритм 3. -- киллер фича.\n",
    "                    tresh=4 # порог вычисленный.\n",
    "                #if (pos==0 and neg==0):\n",
    "                    for j in plus:\n",
    "                        pos_set=j\n",
    "                        res=pos_set & unkn_set\n",
    "                        if len(res)!=0:\n",
    "                            closure1=0.0\n",
    "                            for k in plus:\n",
    "                                if k.issuperset(res) and k!=j:\n",
    "                                    closure1+=1\n",
    "                            if closure1>tresh:\n",
    "                                pos+= closure1*inv_len_plus  * len(res) *inv_len_pos\n",
    "                    pos=  pos *inv_len_plus\n",
    "\n",
    "                    for j in minus:\n",
    "                        neg_set=j\n",
    "                        res=neg_set & unkn_set\n",
    "                        if len(res)!=0:\n",
    "                            closure2=0\n",
    "                            for k in minus :\n",
    "                                if k.issuperset(res) and k!=j:\n",
    "                                    closure2+=1\n",
    "                            if closure2>tresh:        \n",
    "                                neg+=closure2 *inv_len_minus * len(res) *inv_len_pos\n",
    "                    neg =  neg*inv_len_minus\n",
    "\n",
    "                    if (pos <= neg):\n",
    "                        y_pred.append(0)\n",
    "                    else:\n",
    "                        y_pred.append(1)\n",
    "            \n",
    "            \n",
    "\n",
    "    y_pred=np.array(y_pred)\n",
    "    y_test=np.array(y_test)\n",
    "    \n",
    "    return print_metris(y_test, y_pred)"
   ]
  },
  {
   "cell_type": "markdown",
   "metadata": {
    "collapsed": true
   },
   "source": [
    "# Test \n",
    "\n",
    "### Скользящий контроль - обучается, тестируем."
   ]
  },
  {
   "cell_type": "code",
   "execution_count": 569,
   "metadata": {
    "collapsed": true
   },
   "outputs": [],
   "source": [
    "def print_metris(y_test, y_pred):\n",
    "    acc = accuracy_score(y_test, y_pred)\n",
    "    return acc"
   ]
  },
  {
   "cell_type": "markdown",
   "metadata": {},
   "source": [
    "##### 1 алгоритм. "
   ]
  },
  {
   "cell_type": "markdown",
   "metadata": {},
   "source": [
    "###### Car.data data set"
   ]
  },
  {
   "cell_type": "code",
   "execution_count": 570,
   "metadata": {
    "collapsed": false
   },
   "outputs": [
    {
     "name": "stdout",
     "output_type": "stream",
     "text": [
      "0  train,  0  test. Accuracy _  0.895\n",
      "1  train,  1  test. Accuracy _  0.919\n",
      "2  train,  2  test. Accuracy _  0.87\n",
      "3  train,  3  test. Accuracy _  0.862\n",
      "4  train,  4  test. Accuracy _  0.887\n",
      "5  train,  5  test. Accuracy _  0.927\n",
      "6  train,  6  test. Accuracy _  0.915\n",
      "finished! in time   0:00:03.902512\n",
      "My average accuracy (with threshold= 0 ) =  0.896\n"
     ]
    }
   ],
   "source": [
    "acc=0.0\n",
    "counter=0\n",
    "begin=datetime.datetime.now()   \n",
    "for i in range(k_):\n",
    "        counter+=1\n",
    "        plus, minus, x_test, y_test = read_files([i],[i])\n",
    "        res_acc=intersection_classif(plus, minus, x_test, y_test,0.12,0)\n",
    "        print (i,' train, ', (i), ' test. Accuracy _ ', round(res_acc,3))\n",
    "        acc+=res_acc\n",
    "end=datetime.datetime.now()\n",
    "print ('finished! in time  ',end-begin)\n",
    "print ('My average accuracy (with threshold=',0,') = ' ,round(acc/counter,3))"
   ]
  },
  {
   "cell_type": "code",
   "execution_count": 571,
   "metadata": {
    "collapsed": false
   },
   "outputs": [
    {
     "name": "stdout",
     "output_type": "stream",
     "text": [
      "My average accuracy (with threshold= 0.001 ) =  0.899\n",
      "My average accuracy (with threshold= 0.011 ) =  0.899\n"
     ]
    },
    {
     "ename": "KeyboardInterrupt",
     "evalue": "",
     "output_type": "error",
     "traceback": [
      "\u001b[1;31m---------------------------------------------------------------------------\u001b[0m",
      "\u001b[1;31mKeyboardInterrupt\u001b[0m                         Traceback (most recent call last)",
      "\u001b[1;32m<ipython-input-571-07aa87334e70>\u001b[0m in \u001b[0;36m<module>\u001b[1;34m()\u001b[0m\n\u001b[0;32m      6\u001b[0m         \u001b[0mcounter\u001b[0m\u001b[1;33m+=\u001b[0m\u001b[1;36m1\u001b[0m\u001b[1;33m\u001b[0m\u001b[0m\n\u001b[0;32m      7\u001b[0m         \u001b[0mplus\u001b[0m\u001b[1;33m,\u001b[0m \u001b[0mminus\u001b[0m\u001b[1;33m,\u001b[0m \u001b[0mx_test\u001b[0m\u001b[1;33m,\u001b[0m \u001b[0my_test\u001b[0m \u001b[1;33m=\u001b[0m \u001b[0mread_files\u001b[0m\u001b[1;33m(\u001b[0m\u001b[1;33m[\u001b[0m\u001b[0mi\u001b[0m\u001b[1;33m]\u001b[0m\u001b[1;33m,\u001b[0m\u001b[1;33m[\u001b[0m\u001b[0mi\u001b[0m\u001b[1;33m]\u001b[0m\u001b[1;33m)\u001b[0m\u001b[1;33m\u001b[0m\u001b[0m\n\u001b[1;32m----> 8\u001b[1;33m         \u001b[0mres_acc\u001b[0m\u001b[1;33m=\u001b[0m\u001b[0mintersection_classif\u001b[0m\u001b[1;33m(\u001b[0m\u001b[0mplus\u001b[0m\u001b[1;33m,\u001b[0m \u001b[0mminus\u001b[0m\u001b[1;33m,\u001b[0m \u001b[0mx_test\u001b[0m\u001b[1;33m,\u001b[0m \u001b[0my_test\u001b[0m\u001b[1;33m,\u001b[0m\u001b[1;36m0\u001b[0m\u001b[1;33m,\u001b[0m\u001b[0mj\u001b[0m\u001b[1;33m)\u001b[0m\u001b[1;33m\u001b[0m\u001b[0m\n\u001b[0m\u001b[0;32m      9\u001b[0m         \u001b[1;31m#print (i,' train, ', (i), ' test. Accuracy _ ', round(res_acc,3))\u001b[0m\u001b[1;33m\u001b[0m\u001b[1;33m\u001b[0m\u001b[0m\n\u001b[0;32m     10\u001b[0m         \u001b[0macc\u001b[0m\u001b[1;33m+=\u001b[0m\u001b[0mres_acc\u001b[0m\u001b[1;33m\u001b[0m\u001b[0m\n",
      "\u001b[1;32m<ipython-input-567-e47e615ca6b6>\u001b[0m in \u001b[0;36mintersection_classif\u001b[1;34m(plus, minus, x_test, y_test, threshold, pow_)\u001b[0m\n\u001b[0;32m     18\u001b[0m             \u001b[0mres\u001b[0m\u001b[1;33m=\u001b[0m\u001b[0mneg_set\u001b[0m \u001b[1;33m&\u001b[0m \u001b[0munkn_set\u001b[0m\u001b[1;33m\u001b[0m\u001b[0m\n\u001b[0;32m     19\u001b[0m             \u001b[1;31m#neg+=math.pow(float(len(res)), pow_)* inv_len_pos\u001b[0m\u001b[1;33m\u001b[0m\u001b[1;33m\u001b[0m\u001b[0m\n\u001b[1;32m---> 20\u001b[1;33m             \u001b[0mneg\u001b[0m\u001b[1;33m+=\u001b[0m\u001b[0mmath\u001b[0m\u001b[1;33m.\u001b[0m\u001b[0mpow\u001b[0m\u001b[1;33m(\u001b[0m\u001b[0mfloat\u001b[0m\u001b[1;33m(\u001b[0m\u001b[0mlen\u001b[0m\u001b[1;33m(\u001b[0m\u001b[0mres\u001b[0m\u001b[1;33m)\u001b[0m\u001b[1;33m)\u001b[0m\u001b[1;33m,\u001b[0m\u001b[0mlen\u001b[0m\u001b[1;33m(\u001b[0m\u001b[0mres\u001b[0m\u001b[1;33m)\u001b[0m\u001b[1;33m)\u001b[0m\u001b[1;33m*\u001b[0m \u001b[0minv_len_pos\u001b[0m\u001b[1;33m\u001b[0m\u001b[0m\n\u001b[0m\u001b[0;32m     21\u001b[0m \u001b[1;33m\u001b[0m\u001b[0m\n\u001b[0;32m     22\u001b[0m         \u001b[0mneg\u001b[0m \u001b[1;33m=\u001b[0m \u001b[0mneg\u001b[0m \u001b[1;33m*\u001b[0m\u001b[0minv_len_minus\u001b[0m\u001b[1;33m\u001b[0m\u001b[0m\n",
      "\u001b[1;31mKeyboardInterrupt\u001b[0m: "
     ]
    }
   ],
   "source": [
    "acc=0.0\n",
    "counter=0\n",
    "begin=datetime.datetime.now()\n",
    "for j in range(1,60,10):    \n",
    "    for i in range(k_):\n",
    "        counter+=1\n",
    "        plus, minus, x_test, y_test = read_files([i],[i])\n",
    "        res_acc=intersection_classif(plus, minus, x_test, y_test,0,j)\n",
    "        #print (i,' train, ', (i), ' test. Accuracy _ ', round(res_acc,3))\n",
    "        acc+=res_acc\n",
    "    end=datetime.datetime.now()\n",
    "    #print ('finished! in time  ',end-begin)\n",
    "    print ('My average accuracy (with threshold=',j/1000,') = ' ,round(acc/counter,3))"
   ]
  },
  {
   "cell_type": "markdown",
   "metadata": {},
   "source": [
    "##### 2 алгоритм"
   ]
  },
  {
   "cell_type": "markdown",
   "metadata": {},
   "source": [
    "###### Car.data data set"
   ]
  },
  {
   "cell_type": "code",
   "execution_count": null,
   "metadata": {
    "collapsed": false
   },
   "outputs": [],
   "source": [
    "counter = 0\n",
    "acc = 0\n",
    "for i in range(k_):\n",
    "        counter+=1\n",
    "        plus, minus, x_test, y_test = read_files([i],[i])\n",
    "        res_acc=intersection_with_contra_classif(plus, minus, x_test, y_test,0,0)\n",
    "        print (i,' train, ', (i), ' test. Accuracy _ ', round(res_acc,3))\n",
    "        acc+=res_acc\n",
    "end=datetime.datetime.now()\n",
    "print ('finished! in time  ',end-begin)\n",
    "print(str(0))\n",
    "print ('My average accuracy ',float(acc)/counter)\n",
    "print('________')\n",
    "# 0.9918957807276164 - 0.12"
   ]
  },
  {
   "cell_type": "code",
   "execution_count": null,
   "metadata": {
    "collapsed": false
   },
   "outputs": [],
   "source": [
    "for j in range(1,40,10):\n",
    "    acc=0.0\n",
    "    counter=0\n",
    "    begin=datetime.datetime.now()\n",
    "    for i in range(k_):\n",
    "        counter+=1\n",
    "        plus, minus, x_test, y_test = read_files([i],[i])\n",
    "        res_acc=intersection_with_contra_classif(plus, minus, x_test, y_test,0,j)\n",
    "    #    print (i,' train, ', (i), ' test. Accuracy _ ', round(res_acc,3))\n",
    "        acc+=res_acc\n",
    "    end=datetime.datetime.now()\n",
    "    #print ('finished! in time  ',end-begin)\n",
    "    #print(str(j))\n",
    "    print ('My average accuracy with coef',j/1000,' is ',float(acc)/counter)\n",
    "    #print('________')"
   ]
  },
  {
   "cell_type": "markdown",
   "metadata": {},
   "source": [
    "### Распараллелим скользящий контроль"
   ]
  },
  {
   "cell_type": "code",
   "execution_count": null,
   "metadata": {
    "collapsed": false
   },
   "outputs": [],
   "source": [
    "from threading import Thread\n",
    "\n",
    "acc=[0.0 for i in range (k_)]\n",
    "counter=0\n",
    "begin=datetime.datetime.now()\n",
    "\n",
    "def ww(i, j):\n",
    "    global acc\n",
    "    global counter\n",
    "    counter+=1\n",
    "    plus, minus, x_test, y_test = read_files([i],[i])\n",
    "    print (i,' train, ', (i), ' test')\n",
    "    acc[i]+=intersection_classif(plus, minus, x_test, y_test,j)\n",
    "\n",
    "t = []\n",
    "for i in range(k_):\n",
    "    t.append(Thread(target=ww, args=(i,0.001,)))\n",
    "\n",
    "for i in range(k_):\n",
    "    t[i].setDaemon(True) \n",
    "\n",
    "for i in range(k_):\n",
    "    t[i].start()\n",
    "\n",
    "for i in range(k_):\n",
    "    t[i].join()\n",
    "    \n",
    "end=datetime.datetime.now()\n",
    "print ('finished! in time  ',end-begin)\n",
    "\n",
    "rr= np.sum(np.array(acc))/counter\n",
    "print ('My average accuracy ',rr)"
   ]
  },
  {
   "cell_type": "code",
   "execution_count": null,
   "metadata": {
    "collapsed": false
   },
   "outputs": [],
   "source": [
    "for j in range(0,10):\n",
    "    acc=[0.0 for i in range (k_)]\n",
    "    counter=0\n",
    "    begin=datetime.datetime.now()\n",
    "    \n",
    "    t = []\n",
    "    for i in range(k_):\n",
    "        t.append(Thread(target=ww, args=(i,j*1.0/100,)))\n",
    "\n",
    "    for i in range(k_):\n",
    "        t[i].setDaemon(True) \n",
    "\n",
    "    for i in range(k_):\n",
    "        t[i].start()\n",
    "\n",
    "    for i in range(k_):\n",
    "        t[i].join()\n",
    "\n",
    "    end=datetime.datetime.now()\n",
    "    #print ('finished! in time  ',end-begin)\n",
    "    #print(j*1.0/10)\n",
    "    rr= np.sum(np.array(acc))/counter\n",
    "    print ('My average accuracy with coef ',j*1.0/10,' is ',rr)\n",
    "    #print('_____________')"
   ]
  },
  {
   "cell_type": "markdown",
   "metadata": {},
   "source": [
    "# Посмотрим популярные алгоритмы классификации."
   ]
  },
  {
   "cell_type": "code",
   "execution_count": null,
   "metadata": {
    "collapsed": true
   },
   "outputs": [],
   "source": []
  },
  {
   "cell_type": "code",
   "execution_count": null,
   "metadata": {
    "collapsed": false
   },
   "outputs": [],
   "source": [
    "import pandas as pd\n",
    "import numpy as np\n",
    "import copy\n",
    "from sklearn.metrics import roc_auc_score\n",
    "from sklearn.metrics import accuracy_score\n",
    "from sklearn.ensemble import RandomForestClassifier\n",
    "from sklearn.neighbors import KNeighborsClassifier\n",
    "from sklearn.svm import SVC\n"
   ]
  },
  {
   "cell_type": "markdown",
   "metadata": {},
   "source": [
    ">  дальше мой)"
   ]
  },
  {
   "cell_type": "code",
   "execution_count": null,
   "metadata": {
    "collapsed": false
   },
   "outputs": [],
   "source": [
    "a = np.array([['a','a','a'],['b',4,4],['c',0,9]])\n",
    "b = np.array([['a','a','a'],['b',4,4],['c',0,9]])\n",
    "print(a)\n",
    "pd.Series(a[:,0]).factorize()\n",
    "print(np.concatenate([a,b], axis = 1))"
   ]
  },
  {
   "cell_type": "code",
   "execution_count": null,
   "metadata": {
    "collapsed": false
   },
   "outputs": [],
   "source": []
  },
  {
   "cell_type": "code",
   "execution_count": null,
   "metadata": {
    "collapsed": true
   },
   "outputs": [],
   "source": [
    "def fact(x):\n",
    "    res = []\n",
    "    uniq = set(x)\n",
    "    for i in uniq:\n",
    "        temp = list(map(lambda y: int(y == i), x))\n",
    "        res.append(temp)\n",
    "    return np.array(res).T"
   ]
  },
  {
   "cell_type": "code",
   "execution_count": null,
   "metadata": {
    "collapsed": true
   },
   "outputs": [],
   "source": [
    "def change(x):\n",
    "    if x == 'unacc':\n",
    "        return 0\n",
    "    else:\n",
    "        return 1"
   ]
  },
  {
   "cell_type": "code",
   "execution_count": null,
   "metadata": {
    "collapsed": false
   },
   "outputs": [],
   "source": [
    "res1=0.0\n",
    "res2=0.0\n",
    "res3=0.0\n",
    "\n",
    "for i in range (k_):\n",
    "    str1=source+'_train_'+str(i)+'.csv'\n",
    "    str2=source+'_test_'+str(i)+'.csv'\n",
    "    \n",
    "    train_ = np.array(pd.read_csv(str1,delimiter=','))\n",
    "    test_ = np.array(pd.read_csv(str2,delimiter=','))\n",
    "        \n",
    "    train =  train_[:,:-1]\n",
    "    res = np.zeros([train.shape[0],0])\n",
    "    for i in range(train.shape[1]):\n",
    "        j = fact(train[:,i])\n",
    "        res = np.concatenate([res,j],axis = 1)\n",
    "    train = res\n",
    "    label_tr = list(map(lambda x: change(x),train_[:,-1]))\n",
    "    \n",
    "    test =  test_[:,:-1]\n",
    "    res = np.zeros([test.shape[0],0])\n",
    "    for i in range(test.shape[1]):\n",
    "        j = fact(test[:,i])\n",
    "        res = np.concatenate([res,j],axis = 1)\n",
    "    test = res\n",
    "    label_te = list(map(lambda x: change(x),test_[:,-1]))\n",
    "    \n",
    "    clf1 = SVC(C=25,gamma=0.16)\n",
    "    clf1.fit(train,label_tr)\n",
    "    y_pred1 = clf1.predict(test)\n",
    "    acc1 = accuracy_score(label_te, y_pred1)\n",
    "    \n",
    "    clf2 = RandomForestClassifier(n_estimators=100, random_state=3, min_samples_leaf=1) \n",
    "    clf2.fit(train,label_tr)\n",
    "    y_pred2 = clf2.predict(test)\n",
    "    acc2 = accuracy_score(label_te, y_pred2)\n",
    "    \n",
    "\n",
    "    clf3 =  KNeighborsClassifier(n_neighbors=18, p=1, weights='distance') \n",
    "    clf3.fit(train,label_tr)\n",
    "    y_pred3 = clf3.predict(test)\n",
    "    acc3 = accuracy_score(label_te, y_pred3)\n",
    "    \n",
    "    \n",
    "    res1+=acc1\n",
    "    res2+=acc2\n",
    "    res3+=acc3\n",
    "    \n",
    "    print ('test ', i , 'train', i)\n",
    "    print ('   SVM ',\"Accuracy: {}\".format(acc1))\n",
    "    print (\"   RF Accuracy: {}\".format(acc2))\n",
    "    print (\"   KNN Accuracy: {}\".format(acc3))\n",
    "print \n",
    "print ('svm avg acc ',res1/k_)\n",
    "print ('rf avg acc ',res2/k_)\n",
    "print ('knn avg acc ',res3/k_)"
   ]
  }
 ],
 "metadata": {
  "kernelspec": {
   "display_name": "Python 3",
   "language": "python",
   "name": "python3"
  },
  "language_info": {
   "codemirror_mode": {
    "name": "ipython",
    "version": 3
   },
   "file_extension": ".py",
   "mimetype": "text/x-python",
   "name": "python",
   "nbconvert_exporter": "python",
   "pygments_lexer": "ipython3",
   "version": "3.4.3"
  }
 },
 "nbformat": 4,
 "nbformat_minor": 0
}
