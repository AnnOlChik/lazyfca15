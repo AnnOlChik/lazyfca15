{
 "cells": [
  {
   "cell_type": "markdown",
   "metadata": {},
   "source": [
    "# Lazy FCA (Pasha Perevedentsev)"
   ]
  },
  {
   "cell_type": "code",
   "execution_count": 10,
   "metadata": {
    "collapsed": false
   },
   "outputs": [],
   "source": [
    "%matplotlib inline\n",
    "import numpy as np\n",
    "import pandas as pd\n",
    "import matplotlib.pyplot as plt\n",
    "from sklearn.cross_validation import KFold\n",
    "\n",
    "from sklearn.metrics import accuracy_score\n",
    "from sklearn.metrics import precision_score\n",
    "from sklearn.metrics import recall_score\n",
    "\n",
    "import warnings\n",
    "warnings.filterwarnings(\"ignore\")"
   ]
  },
  {
   "cell_type": "markdown",
   "metadata": {
    "collapsed": true
   },
   "source": [
    "Now, define several functions for loading and processing data"
   ]
  },
  {
   "cell_type": "code",
   "execution_count": 28,
   "metadata": {
    "collapsed": true
   },
   "outputs": [],
   "source": [
    "def load_connect_4(frac=0.05):\n",
    "    data = pd.read_csv('../data_sets/connect-4/connect-4.data', header=None, index_col=False).sample(frac=frac)\n",
    "    data = data[data[42] != 'draw'].reset_index(drop=True)\n",
    "    data.ix[data[42] == 'win', 42] = 1\n",
    "    data.ix[data[42] == 'loss', 42] = 0\n",
    "    X = pd.concat(map(lambda x: pd.get_dummies(data[x]), data.drop([42], axis=1)), axis=1)\n",
    "    y = data[42].astype(int)\n",
    "    return X, y\n",
    "\n",
    "def load_hayes_roth():\n",
    "    data = pd.read_csv('hayes-roth.data.txt', header=None, index_col=0)\n",
    "    data = data.reset_index(drop=True)\n",
    "    data.ix[data[5] == 1, 5] = 0\n",
    "    data.ix[(data[5] == 2) | (data[5] == 3), 5] = 1\n",
    "    X = pd.concat(map(lambda x: pd.get_dummies(data[x]), data.drop([5], axis=1)), axis=1)\n",
    "    y = data[5].astype(int)\n",
    "    return X, y"
   ]
  },
  {
   "cell_type": "markdown",
   "metadata": {},
   "source": [
    "Now, we must calculate some features. I've decided to use following ones: \n",
    "- Power of intersection with positive context\n",
    "- Power of intersection with negative context\n",
    "- Scaled support\n",
    "- Scaled confidence"
   ]
  },
  {
   "cell_type": "code",
   "execution_count": 4,
   "metadata": {
    "collapsed": true
   },
   "outputs": [],
   "source": [
    "def learn(X, y, name = 'default'):\n",
    "    foldation = KFold(X.shape[0], k, shuffle=True, random_state=seed)\n",
    "\n",
    "    pos_arr = []\n",
    "    neg_arr = []\n",
    "    support_pos_arr = []\n",
    "    confidence_pos_arr = []\n",
    "    support_neg_arr = []\n",
    "    confidence_neg_arr = []\n",
    "    y_test_arr = []\n",
    "\n",
    "    for fold_index, fold in enumerate(foldation):\n",
    "        X_train = X.ix[fold[0]].values\n",
    "        y_train = y.ix[fold[0]].values\n",
    "        X_test = X.ix[fold[1]].values\n",
    "        y_test = y.ix[fold[1]].astype(int).values\n",
    "\n",
    "        X_train_pos = X_train[y_train == 1]\n",
    "        X_train_neg = X_train[y_train == 0]\n",
    "\n",
    "        for test_index, test_obj in enumerate(X_test):\n",
    "            pos = np.sum(test_obj == X_train_pos) / (float(len(X_train_pos)) * X.shape[1])\n",
    "            neg = np.sum(test_obj == X_train_neg) / (float(len(X_train_neg)) * X.shape[1])\n",
    "            support_pos = 0\n",
    "            support_neg = 0\n",
    "            confidence_pos = 0\n",
    "            confidence_neg = 0\n",
    "            for train_obj in X_train_pos:\n",
    "                intersection = (test_obj == train_obj)\n",
    "                support_pos += (train_obj[intersection] == X_train_pos[:, intersection]).all(axis=1).sum() - 1\n",
    "                confidence_pos += (train_obj[intersection] == X_train_neg[:, intersection]).all(axis=1).sum()\n",
    "            for train_obj in X_train_neg:\n",
    "                intersection = (test_obj == train_obj)\n",
    "                support_neg += (train_obj[intersection] == X_train_neg[:, intersection]).all(axis=1).sum() - 1\n",
    "                confidence_neg += (train_obj[intersection] == X_train_pos[:, intersection]).all(axis=1).sum()\n",
    "            pos_arr.append(pos)\n",
    "            neg_arr.append(neg)\n",
    "            support_pos_arr.append(support_pos/(float(len(X_train_pos))**2))\n",
    "            support_neg_arr.append(support_neg/(float(len(X_train_neg))**2))\n",
    "            confidence_pos_arr.append(confidence_pos/(float(len(X_train_pos))*float(len(X_train_neg))))\n",
    "            confidence_neg_arr.append(confidence_neg/(float(len(X_train_neg))*float(len(X_train_pos))))\n",
    "        y_test_arr.extend(y_test)\n",
    "\n",
    "    np.save(\"raw/pos-{}.npy\".format(name), pos_arr)\n",
    "    np.save(\"raw/neg-{}.npy\".format(name), neg_arr)\n",
    "    np.save(\"raw/support_pos-{}.npy\".format(name), support_pos_arr)\n",
    "    np.save(\"raw/support_neg-{}.npy\".format(name), support_neg_arr)\n",
    "    np.save(\"raw/confidence_pos-{}.npy\".format(name), confidence_pos_arr)\n",
    "    np.save(\"raw/confidence_neg-{}.npy\".format(name), confidence_neg_arr)\n",
    "    np.save(\"raw/y-{}.npy\".format(name), y_test_arr)"
   ]
  },
  {
   "cell_type": "markdown",
   "metadata": {},
   "source": [
    "Let's keep results in separate files"
   ]
  },
  {
   "cell_type": "code",
   "execution_count": 33,
   "metadata": {
    "collapsed": true
   },
   "outputs": [],
   "source": [
    "X, y = load_connect_4()\n",
    "learn(X, y)"
   ]
  },
  {
   "cell_type": "code",
   "execution_count": 6,
   "metadata": {
    "collapsed": false
   },
   "outputs": [],
   "source": [
    "name = 'default'\n",
    "pos_arr = np.load(\"raw/pos-{}.npy\".format(name))\n",
    "neg_arr = np.load(\"raw/neg-{}.npy\".format(name))\n",
    "support_pos_arr = np.load(\"raw/support_pos-{}.npy\".format(name))\n",
    "support_neg_arr = np.load(\"raw/support_neg-{}.npy\".format(name))\n",
    "confidence_pos_arr = np.load(\"raw/confidence_pos-{}.npy\".format(name))\n",
    "confidence_neg_arr = np.load(\"raw/confidence_neg-{}.npy\".format(name))\n",
    "y_test = np.load(\"raw/y-{}.npy\".format(name))"
   ]
  },
  {
   "cell_type": "markdown",
   "metadata": {},
   "source": [
    "Now we are going to test different features against its predictive accuracy, precision and recall."
   ]
  },
  {
   "cell_type": "code",
   "execution_count": 23,
   "metadata": {
    "collapsed": false
   },
   "outputs": [
    {
     "data": {
      "image/png": "[encoded data removed]",
      "text/plain": [
       "<matplotlib.figure.Figure at 0x10da87d68>"
      ]
     },
     "metadata": {},
     "output_type": "display_data"
    }
   ],
   "source": [
    "acc = []\n",
    "prec = []\n",
    "rec = []\n",
    "r = np.arange(-0.02, 0.02, 0.0001)\n",
    "for border in r:\n",
    "    y_pred = ((pos_arr - neg_arr > border)).astype(int)\n",
    "    acc.append(accuracy_score(y_test, y_pred))\n",
    "    prec.append(precision_score(y_test, y_pred))\n",
    "    rec.append(recall_score(y_test, y_pred))\n",
    "a = plt.plot(r, acc, label='acc')\n",
    "p = plt.plot(r, prec, label='prec')\n",
    "r = plt.plot(r, rec, label='rec')"
   ]
  },
  {
   "cell_type": "code",
   "execution_count": 20,
   "metadata": {
    "collapsed": false
   },
   "outputs": [
    {
     "data": {
      "text/plain": [
       "[<matplotlib.lines.Line2D at 0x10d86c0f0>]"
      ]
     },
     "execution_count": 20,
     "metadata": {},
     "output_type": "execute_result"
    },
    {
     "data": {
      "image/png": "[encoded data removed]",
      "text/plain": [
       "<matplotlib.figure.Figure at 0x10d627ef0>"
      ]
     },
     "metadata": {},
     "output_type": "display_data"
    }
   ],
   "source": [
    "acc = []\n",
    "prec = []\n",
    "rec = []\n",
    "r = np.arange(-0.001, 0.001, 0.00001)\n",
    "for border in r:\n",
    "    y_pred = ((support_pos_arr - support_neg_arr > border)).astype(int)\n",
    "    acc.append(accuracy_score(y_test, y_pred))\n",
    "    prec.append(precision_score(y_test, y_pred))\n",
    "    rec.append(recall_score(y_test, y_pred))\n",
    "plt.plot(r, acc, label='acc')\n",
    "plt.plot(r, prec, label='prec')\n",
    "plt.plot(r, rec, label='rec')"
   ]
  },
  {
   "cell_type": "code",
   "execution_count": 24,
   "metadata": {
    "collapsed": false
   },
   "outputs": [
    {
     "data": {
      "text/plain": [
       "[<matplotlib.lines.Line2D at 0x10d24aac8>]"
      ]
     },
     "execution_count": 24,
     "metadata": {},
     "output_type": "execute_result"
    },
    {
     "data": {
      "image/png": "[encoded data removed]",
      "text/plain": [
       "<matplotlib.figure.Figure at 0x10d60eb00>"
      ]
     },
     "metadata": {},
     "output_type": "display_data"
    }
   ],
   "source": [
    "acc = []\n",
    "prec = []\n",
    "rec = []\n",
    "r = np.arange(-0.01, 0.01, 0.00001)\n",
    "for border in r:\n",
    "    y_pred = ((confidence_pos_arr - confidence_neg_arr > border)).astype(int)\n",
    "    acc.append(accuracy_score(y_test, y_pred))\n",
    "    prec.append(precision_score(y_test, y_pred))\n",
    "    rec.append(recall_score(y_test, y_pred))\n",
    "plt.plot(r, acc, label='acc')\n",
    "plt.plot(r, prec, label='prec')\n",
    "plt.plot(r, rec, label='rec')"
   ]
  },
  {
   "cell_type": "markdown",
   "metadata": {},
   "source": [
    "We can see that using power is the most predictable way to do something here"
   ]
  },
  {
   "cell_type": "code",
   "execution_count": 94,
   "metadata": {
    "collapsed": false
   },
   "outputs": [],
   "source": [
    "def online(X_train, y_train, X_test, y_test, border):\n",
    "    acc = []\n",
    "    prec = []\n",
    "    rec = []\n",
    "    X_train = X_train.values\n",
    "    y_train = y_train.values\n",
    "    X_test = X_test.values\n",
    "    y_test = y_test.values\n",
    "    X_train_pos = X_train[y_train == 1]\n",
    "    X_train_neg = X_train[y_train == 0]\n",
    "    y_pred = []\n",
    "    for test_obj in X_test:\n",
    "        pos = np.sum(test_obj == X_train_pos) / (float(len(X_train_pos)) * X_train.shape[1])\n",
    "        neg = np.sum(test_obj == X_train_neg) / (float(len(X_train_neg)) * X_train.shape[1])\n",
    "        y_pred.append(int(pos - neg > border))\n",
    "\n",
    "    print(\"Accuracy: {}\\nPrecision: {}\\n\"\n",
    "          \"Recall: {}\".format(accuracy_score(y_test, y_pred),\n",
    "                              precision_score(y_test, y_pred),\n",
    "                              recall_score(y_test, y_pred)))"
   ]
  },
  {
   "cell_type": "markdown",
   "metadata": {},
   "source": [
    "We've got a problem that that fixed border is too sensitive and on some subsets can be totally lefter or righter than actual border."
   ]
  },
  {
   "cell_type": "code",
   "execution_count": 113,
   "metadata": {
    "collapsed": false
   },
   "outputs": [
    {
     "name": "stdout",
     "output_type": "stream",
     "text": [
      "Accuracy: 0.7627975220084774\n",
      "Precision: 0.812396006655574\n",
      "Recall: 0.8759811616954474\n"
     ]
    }
   ],
   "source": [
    "X_online_test, y_online_test = load_connect_4(0.1)\n",
    "online(X, y, X_online_test, y_online_test, border=-0.0045)"
   ]
  },
  {
   "cell_type": "code",
   "execution_count": null,
   "metadata": {
    "collapsed": true
   },
   "outputs": [],
   "source": []
  }
 ],
 "metadata": {
  "kernelspec": {
   "display_name": "Python 3",
   "language": "python",
   "name": "python3"
  },
  "language_info": {
   "codemirror_mode": {
    "name": "ipython",
    "version": 3
   },
   "file_extension": ".py",
   "mimetype": "text/x-python",
   "name": "python",
   "nbconvert_exporter": "python",
   "pygments_lexer": "ipython3",
   "version": "3.5.1"
  }
 },
 "nbformat": 4,
 "nbformat_minor": 0
}
