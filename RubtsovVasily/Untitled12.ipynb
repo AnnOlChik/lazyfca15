{
 "cells": [
  {
   "cell_type": "code",
   "execution_count": 69,
   "metadata": {
    "collapsed": false
   },
   "outputs": [],
   "source": [
    "#make files cross validation\n",
    "import pandas as pd\n",
    "import random\n",
    "data = pd.read_csv('G:\\\\data analysis\\\\agaricus-lepiota.csv', sep=',')\n",
    "t = list(range(len(data.values)))\n",
    "header = list(data.columns)\n",
    "for i in range(10):\n",
    "    random.shuffle(t)\n",
    "    file = open('G:\\\\data analysis\\\\train{}.csv'.format(i), 'w')\n",
    "    k = t[0:50]\n",
    "    file.write(','.join(header)+'\\n')\n",
    "    file.write( '\\n'.join([','.join(list(val)) for val in data.values[k]]))\n",
    "    k = t[50:100]\n",
    "    file = open('G:\\\\data analysis\\\\test{}.csv'.format(i), 'w')\n",
    "    file.write(','.join(header)+'\\n')\n",
    "    file.write( '\\n'.join([','.join(list(val)) for val in data.values[k]]))\n",
    "file.close()"
   ]
  },
  {
   "cell_type": "code",
   "execution_count": 42,
   "metadata": {
    "collapsed": false
   },
   "outputs": [],
   "source": []
  },
  {
   "cell_type": "code",
   "execution_count": 9,
   "metadata": {
    "collapsed": false
   },
   "outputs": [],
   "source": [
    "def algorithm1(y_pred):\n",
    "    for test_obj in X_test:\n",
    "        pos = np.sum(test_obj == X_train_pos) / float(len(X_train_pos))\n",
    "        neg = np.sum(test_obj == X_train_neg) / float(len(X_train_neg))\n",
    "        if (pos > neg):\n",
    "            y_pred.append(1)\n",
    "        else:\n",
    "            y_pred.append(0)\n",
    "\n"
   ]
  },
  {
   "cell_type": "code",
   "execution_count": 67,
   "metadata": {
    "collapsed": false
   },
   "outputs": [],
   "source": [
    "#алгоритм2\n",
    "def algorithm2(y_pred):\n",
    "    a =1.4\n",
    "    sum1 = sum2 = 0\n",
    "    for test in X_test:\n",
    "        for pos in X_train_pos:\n",
    "            tmp = test & pos\n",
    "            sum1 += a**np.sum(test & pos)\n",
    "            for neg in X_train_neg:\n",
    "                if np.sum( tmp <= neg) == n:\n",
    "                    sum1 -= a**np.sum(test & pos)\n",
    "                    break\n",
    "        for neg in X_train_neg:\n",
    "            tmp = test & neg\n",
    "            sum2+= a**np.sum(test & neg)\n",
    "            for pos in X_train_pos:\n",
    "                if np.sum( tmp <= pos) == n:\n",
    "                    sum2 -= a**np.sum(test & neg)\n",
    "                    break\n",
    "        sum1 = sum1/(len(X_train_pos))\n",
    "        sum2 = sum2/(len(X_train_neg))\n",
    "        if sum1 > sum2:\n",
    "            y_pred.append(1)\n",
    "        else:\n",
    "            y_pred.append(0)"
   ]
  },
  {
   "cell_type": "code",
   "execution_count": 10,
   "metadata": {
    "collapsed": true
   },
   "outputs": [],
   "source": [
    "#алгоритм3 байес\n",
    "def algorithm3(y_pred):\n",
    "    f_pos = [0 for i in range(n)]\n",
    "    for pos in X_train_pos:\n",
    "        for i in range(len(pos)):\n",
    "            f_pos[i] += pos[i]\n",
    "    f_pos = [tmp/len(X_train_pos) for tmp in f_pos]\n",
    "    \n",
    "    f_neg = [0 for i in range(n)]\n",
    "    for neg in X_train_neg:\n",
    "        for i in range(len(neg)):\n",
    "            f_neg[i] += neg[i]\n",
    "    f_neg = [tmp/len(X_train_neg) for tmp in f_neg]\n",
    "    \n",
    "    for test in X_test:\n",
    "        sum1 = 1\n",
    "        sum2 = 1\n",
    "        for i in range(n):\n",
    "            if test[i] == 1:\n",
    "                sum1 *= f_pos[i]\n",
    "                sum2 *= f_neg[i]\n",
    "            else:\n",
    "                sum1 *= (1 - f_pos[i])\n",
    "                sum2 *= (1 - f_neg[i])\n",
    "        sum1 = sum1*len(X_train_pos)\n",
    "        sum2 = sum2*len(X_train_neg)\n",
    "        if sum1 > sum2:\n",
    "            y_pred.append(1)\n",
    "        else:\n",
    "            y_pred.append(0)     \n",
    "\n"
   ]
  },
  {
   "cell_type": "code",
   "execution_count": 11,
   "metadata": {
    "collapsed": false
   },
   "outputs": [],
   "source": [
    "#алгоритм4\n",
    "def algorithm4(y_pred):\n",
    "    for test in X_test:\n",
    "        maxx = 0\n",
    "        tmp = 0\n",
    "        for neg in X_train_neg:\n",
    "            if np.sum(test & neg) > maxx:\n",
    "                maxx = np.sum(test & neg)\n",
    "        for pos in X_train_pos:\n",
    "            if np.sum(test & pos) > maxx:\n",
    "                maxx = np.sum(test & pos)\n",
    "                tmp = 1\n",
    "        y_pred.append(tmp)"
   ]
  },
  {
   "cell_type": "code",
   "execution_count": 70,
   "metadata": {
    "collapsed": false
   },
   "outputs": [
    {
     "name": "stdout",
     "output_type": "stream",
     "text": [
      "True Positive: 253\n",
      "True Negative: 224\n",
      "False Positive: 15\n",
      "False Negative: 8\n",
      "True Positive Rate: 5.484672364672365\n",
      "True Negative Rate: 4.950305462653289\n",
      "Negative Predictive Value: 0.07028366758195206\n",
      "False Positive Rate: 0.9664852597743421\n",
      "False Discovery Rate: 0.067294238581023\n",
      "Accuracy: 0.9540000000000003\n",
      "AccuracyPrecision: 0.9468703751239904\n",
      "Recall: 0.9700783475783474\n"
     ]
    }
   ],
   "source": [
    "import pandas as pd\n",
    "import numpy as np\n",
    "import copy\n",
    "features = [['b','c','x','f','k','s'],\n",
    "            ['f','g','y','s'],\n",
    "            ['n','b','c','g','r','p','u','e','w','y'], \n",
    "            ['t','f'], \n",
    "            ['a','l','c','y','f','m','n','p','s'],\n",
    "            ['a','d','f','n'],\n",
    "            ['c','w','d'], \n",
    "            ['b','n'], \n",
    "            ['k','n','b','h','g','r','o','p','u','e','w','y'],\n",
    "            ['e','t'],\n",
    "            ['b','c','u','e','z','r','?'], \n",
    "            ['f','y','k','s'], \n",
    "            ['f','y','k','s'],\n",
    "            ['n','b','c','g','o','p','e','w','y'],\n",
    "            ['n','b','c','g','o','p','e','w','y'],\n",
    "            ['p','u'],\n",
    "            ['n','o','w','y'],\n",
    "            ['n','o','t'],\n",
    "            ['c','e','f','l','n','p','s','z'],\n",
    "            ['k','n','b','h','r','o','u','w','y'],\n",
    "            ['a','c','n','s','v','y'],\n",
    "            ['g','l','m','p','u','w','d']]\n",
    "def dummy_encode_categorical_columns(data):\n",
    "    result_data = copy.deepcopy(data)\n",
    "    i = 0\n",
    "    n = len(result_data.values)\n",
    "    for column in data.columns.values:\n",
    "        \n",
    "        tmp = pd.get_dummies(list(result_data[column]) + features[i], prefix = column, prefix_sep = ': ')\n",
    "        tmp = tmp.truncate(0, n-1)\n",
    "        result_data = pd.concat([result_data, tmp], axis = 1)\n",
    "        i += 1\n",
    "        del result_data[column]\n",
    "    return result_data\n",
    "def parse_file(name):\n",
    "    df = pd.read_csv(name, sep=',')\n",
    "    #df[0] = df[0].replace(to_replace='e', value=1)\n",
    "    for i in range(len(df['0'])):\n",
    "        if df['0'][i] == 'e':\n",
    "            df['0'][i] = 1\n",
    "        else:\n",
    "            df['0'][i] = 0\n",
    "    #df[0] = df[0].replace(to_replace='p', value=0)\n",
    "    y = np.array(df['0'])\n",
    "    del df['0']\n",
    "    bin_df = dummy_encode_categorical_columns(df)\n",
    "    return np.array(bin_df).astype(int), y\n",
    "TP = TN = FP = FN = TPR = TNR = FPR = NPV = FDR = acc = prec = rec = 0\n",
    "for q in range(10):\n",
    "    X_train, y_train = parse_file('G:\\\\data analysis\\\\train{}.csv'.format(q))\n",
    "    X_test, y_test = parse_file('G:\\\\data analysis\\\\test{}.csv'.format(q))\n",
    "    X_train_pos = X_train[y_train == 1]\n",
    "    X_train_neg = X_train[y_train == 0]\n",
    "\n",
    "    n = len(X_train[0])\n",
    "\n",
    "    y_pred = []\n",
    "    \n",
    "    algorithm2(y_pred)\n",
    "\n",
    "    y_pred = np.array(y_pred)\n",
    "    from sklearn.metrics import accuracy_score\n",
    "    from sklearn.metrics import precision_score\n",
    "    from sklearn.metrics import recall_score\n",
    "\n",
    "    y_test = y_test.astype(int)\n",
    "\n",
    "    TP += np.sum(y_test * y_pred)\n",
    "    TN += np.sum(y_test + y_pred == 0)\n",
    "    FP += np.sum((y_test  == 0) * (y_pred == 1))\n",
    "    FN += np.sum((y_test  == 1) * (y_pred == 0))\n",
    "    TPR += float(TP) / np.sum(y_test == 1)\n",
    "    TNR += float(TN) / np.sum(y_test == 0)\n",
    "    FPR += float(FP) / (TP + FN)\n",
    "    NPV += float(TN) / (TN + FN)\n",
    "    FDR += float(FP) / (TP + FP)\n",
    "    acc += accuracy_score(y_test, y_pred)\n",
    "    prec += precision_score(y_test, y_pred)\n",
    "    rec += recall_score(y_test, y_pred)\n",
    "\n",
    "print(\"True Positive: {}\\nTrue Negative: {}\\nFalse Positive: {}\\n\\\n",
    "False Negative: {}\\nTrue Positive Rate: {}\\nTrue Negative Rate: {}\\n\\\n",
    "Negative Predictive Value: {}\\nFalse Positive Rate: {}\\nFalse Discovery Rate: {}\\n\\\n",
    "Accuracy: {}\\nAccuracyPrecision: {}\\n\\\n",
    "Recall: {}\".format(TP, TN, FP, FN, TPR/10, TNR/10, FPR/10, NPV/10, FDR/10, acc/10, prec/10, rec/10))"
   ]
  }
 ],
 "metadata": {
  "kernelspec": {
   "display_name": "Python 3",
   "language": "python",
   "name": "python3"
  },
  "language_info": {
   "codemirror_mode": {
    "name": "ipython",
    "version": 3
   },
   "file_extension": ".py",
   "mimetype": "text/x-python",
   "name": "python",
   "nbconvert_exporter": "python",
   "pygments_lexer": "ipython3",
   "version": "3.5.1"
  }
 },
 "nbformat": 4,
 "nbformat_minor": 0
}
