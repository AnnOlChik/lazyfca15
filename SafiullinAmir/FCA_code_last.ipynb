{
 "cells": [
  {
   "cell_type": "markdown",
   "metadata": {},
   "source": [
    "# Сафиуллин Амир."
   ]
  },
  {
   "cell_type": "code",
   "execution_count": 42,
   "metadata": {
    "collapsed": true
   },
   "outputs": [],
   "source": [
    "import pandas as pd"
   ]
  },
  {
   "cell_type": "code",
   "execution_count": 63,
   "metadata": {
    "collapsed": false
   },
   "outputs": [],
   "source": [
    "a=pd.DataFrame()\n",
    "a['Алгоритмы'] = pd.Series(['1','2','3.1','3.2 (Tresh = 10)','4 (tresh = 0)',' ','SVC','RandForest', 'kNN'])\n",
    "a['Avg_Accuracy'] = pd.Series([0.659, 0.99, 0.933, 0.979, 0.989, 0 ,0.998, 0.986, 0.982])"
   ]
  },
  {
   "cell_type": "markdown",
   "metadata": {},
   "source": [
    ">> сравнительная таблица показывающая среднее значение accuracy на массиве tic tac для разработанных алгоритмов и трех известных (SVM, randome forest, k-Nearest Neighbor )\n",
    "\n",
    ">> (описание алгоритмов представлено ниже)"
   ]
  },
  {
   "cell_type": "code",
   "execution_count": 64,
   "metadata": {
    "collapsed": false
   },
   "outputs": [
    {
     "data": {
      "text/html": [
       "<div style=\"max-height:1000px;max-width:1500px;overflow:auto;\">\n",
       "<table border=\"1\" class=\"dataframe\">\n",
       "  <thead>\n",
       "    <tr style=\"text-align: right;\">\n",
       "      <th></th>\n",
       "      <th>Алгоритмы</th>\n",
       "      <th>Avg_Accuracy</th>\n",
       "    </tr>\n",
       "  </thead>\n",
       "  <tbody>\n",
       "    <tr>\n",
       "      <th>0</th>\n",
       "      <td>                1</td>\n",
       "      <td> 0.659</td>\n",
       "    </tr>\n",
       "    <tr>\n",
       "      <th>1</th>\n",
       "      <td>                2</td>\n",
       "      <td> 0.990</td>\n",
       "    </tr>\n",
       "    <tr>\n",
       "      <th>2</th>\n",
       "      <td>              3.1</td>\n",
       "      <td> 0.933</td>\n",
       "    </tr>\n",
       "    <tr>\n",
       "      <th>3</th>\n",
       "      <td> 3.2 (Tresh = 10)</td>\n",
       "      <td> 0.979</td>\n",
       "    </tr>\n",
       "    <tr>\n",
       "      <th>4</th>\n",
       "      <td>    4 (tresh = 0)</td>\n",
       "      <td> 0.989</td>\n",
       "    </tr>\n",
       "    <tr>\n",
       "      <th>5</th>\n",
       "      <td>                 </td>\n",
       "      <td> 0.000</td>\n",
       "    </tr>\n",
       "    <tr>\n",
       "      <th>6</th>\n",
       "      <td>              SVC</td>\n",
       "      <td> 0.998</td>\n",
       "    </tr>\n",
       "    <tr>\n",
       "      <th>7</th>\n",
       "      <td>       RandForest</td>\n",
       "      <td> 0.986</td>\n",
       "    </tr>\n",
       "    <tr>\n",
       "      <th>8</th>\n",
       "      <td>              KNN</td>\n",
       "      <td> 0.982</td>\n",
       "    </tr>\n",
       "  </tbody>\n",
       "</table>\n",
       "<p>9 rows × 2 columns</p>\n",
       "</div>"
      ],
      "text/plain": [
       "          Алгоритмы  Avg_Accuracy\n",
       "0                 1         0.659\n",
       "1                 2         0.990\n",
       "2               3.1         0.933\n",
       "3  3.2 (Tresh = 10)         0.979\n",
       "4     4 (tresh = 0)         0.989\n",
       "5                           0.000\n",
       "6               SVC         0.998\n",
       "7        RandForest         0.986\n",
       "8               KNN         0.982\n",
       "\n",
       "[9 rows x 2 columns]"
      ]
     },
     "execution_count": 64,
     "metadata": {},
     "output_type": "execute_result"
    }
   ],
   "source": [
    "a"
   ]
  },
  {
   "cell_type": "code",
   "execution_count": null,
   "metadata": {
    "collapsed": true
   },
   "outputs": [],
   "source": []
  },
  {
   "cell_type": "code",
   "execution_count": null,
   "metadata": {
    "collapsed": true
   },
   "outputs": [],
   "source": []
  },
  {
   "cell_type": "code",
   "execution_count": null,
   "metadata": {
    "collapsed": true
   },
   "outputs": [],
   "source": []
  },
  {
   "cell_type": "code",
   "execution_count": 26,
   "metadata": {
    "collapsed": true
   },
   "outputs": [],
   "source": [
    "import numpy as np\n",
    "import datetime\n",
    "from sklearn.metrics import accuracy_score\n",
    "from sklearn.metrics import roc_auc_score\n",
    "from sklearn.metrics import precision_score\n",
    "from sklearn.metrics import recall_score"
   ]
  },
  {
   "cell_type": "code",
   "execution_count": 17,
   "metadata": {
    "collapsed": false
   },
   "outputs": [],
   "source": [
    "def print_metris_all(y_test, y_pred):\n",
    "    acc = accuracy_score(y_test, y_pred)\n",
    "    roc_auc=roc_auc_score(y_test, y_pred)\n",
    "    print \"Accuracy: {}\\nROC AUC: {}\".format(acc,roc_auc)\n",
    "    \n",
    "    TP = np.sum(y_test * y_pred)\n",
    "    TN = np.sum(y_test + y_pred == 0)\n",
    "    FP = np.sum((y_test  == 0) * (y_pred == 1))\n",
    "    FN = np.sum((y_test  == 1) * (y_pred == 0))\n",
    "    try:\n",
    "        TPR = float(TP) / (TP + FN)\n",
    "        TNR = float(TN) / (TN + FP)\n",
    "        FPR = float(FP) / (FP + TN)\n",
    "        NPV = float(TN) / (TN + FN)\n",
    "        FDR = float(FP) / (TP + FP)\n",
    "        acc = accuracy_score(y_test, y_pred)\n",
    "        prec = precision_score(y_test, y_pred)\n",
    "        rec = recall_score(y_test, y_pred)\n",
    "        print '''\n",
    "True Positive: {}\n",
    "True Negative: {} \n",
    "False Positive: {}\n",
    "False Negative: {}\n",
    "True Positive Rate: {}\n",
    "True Negative Rate: {}\n",
    "Negative Predictive Value: {}\n",
    "False Positive Rate: {}\n",
    "False Discovery Rate: {}\n",
    "Precision: {}\n",
    "Recall: {}'''.format(TP, TN, FP, FN, TPR, TNR, NPV, FPR, FDR, prec, rec)\n",
    "    except:\n",
    "        print 'sorry'"
   ]
  },
  {
   "cell_type": "code",
   "execution_count": 27,
   "metadata": {
    "collapsed": true
   },
   "outputs": [],
   "source": [
    "attrib_names = [\n",
    "'top-left-square',\n",
    "'top-middle-square',\n",
    "'top-right-square',\n",
    "'middle-left-square',\n",
    "'middle-middle-square',\n",
    "'middle-right-square',\n",
    "'bottom-left-square',\n",
    "'bottom-middle-square',\n",
    "'bottom-right-square',\n",
    "]\n",
    "\n",
    "#attrib_names = [ str(i) for i in range(0,37) ]\n"
   ]
  },
  {
   "cell_type": "code",
   "execution_count": 28,
   "metadata": {
    "collapsed": true
   },
   "outputs": [],
   "source": [
    "def make_intent(example):\n",
    "    global attrib_names\n",
    "    return set([i+':'+str(k) for i, k in zip(attrib_names, example)])"
   ]
  },
  {
   "cell_type": "code",
   "execution_count": 29,
   "metadata": {
    "collapsed": true
   },
   "outputs": [],
   "source": [
    "def read_files(indexes_train, indexes_test):\n",
    "    \n",
    "    plus=[]\n",
    "    minus=[]\n",
    "    x_test=[]\n",
    "    y_test=[]\n",
    "\n",
    "    for index in indexes_train:\n",
    "        index=str(index)\n",
    "#        q = open(\"./kr/kr-vs-kp.data_train_\" + index + \".txt\", \"r\")\n",
    "        q = open(\"../train\" + index + \".csv\", \"r\")\n",
    "        positive = \"positive\"\n",
    "        negative = \"negative\"\n",
    "#        positive = \"won\"\n",
    "#        negative = \"nowin\"\n",
    "        train = [a.strip().split(\",\") for a in q]\n",
    "        _plus = [make_intent(a[:-1]) for a in train if a[-1] == positive]\n",
    "        _minus = [make_intent(a[:-1]) for a in train if a[-1] == negative]\n",
    "        q.close()\n",
    "        plus+=_plus\n",
    "        minus+=_minus   \n",
    "        \n",
    "    for index in indexes_test:\n",
    "        index=str(index)\n",
    "#        w = open(\"./kr/kr-vs-kp.data_validation_\" + index + \".txt\", \"r\")\n",
    "        w = open(\"../test\" + index + \".csv\", \"r\")\n",
    "        _unknown = [a.strip().split(\",\") for a in w]\n",
    "\n",
    "        _x_test = [make_intent(a[:-1]) for a in _unknown]\n",
    "        _y_test = [1 if a[-1] == positive else 0 for a in _unknown ]\n",
    "        del _x_test[0]\n",
    "        del _y_test[0]\n",
    "        w.close()\n",
    "        x_test+=_x_test\n",
    "        y_test+=_y_test\n",
    "        \n",
    "    return plus, minus, x_test, y_test"
   ]
  },
  {
   "cell_type": "code",
   "execution_count": 17,
   "metadata": {
    "collapsed": false
   },
   "outputs": [],
   "source": [
    "plus, minus, x_test, y_test = read_files([1],[1])"
   ]
  },
  {
   "cell_type": "code",
   "execution_count": 18,
   "metadata": {
    "collapsed": false
   },
   "outputs": [
    {
     "data": {
      "text/plain": [
       "(565, 300, 93)"
      ]
     },
     "execution_count": 18,
     "metadata": {},
     "output_type": "execute_result"
    }
   ],
   "source": [
    "len(plus), len(minus), len(x_test)"
   ]
  },
  {
   "cell_type": "code",
   "execution_count": 54,
   "metadata": {
    "collapsed": false
   },
   "outputs": [
    {
     "name": "stdout",
     "output_type": "stream",
     "text": [
      "0\n"
     ]
    }
   ],
   "source": [
    "# Пересечения\n",
    "count = 0\n",
    "for i in plus:\n",
    "    for j in x_test:\n",
    "        if i == j: \n",
    "            count+=1\n",
    "print count"
   ]
  },
  {
   "cell_type": "code",
   "execution_count": null,
   "metadata": {
    "collapsed": false
   },
   "outputs": [],
   "source": []
  },
  {
   "cell_type": "markdown",
   "metadata": {},
   "source": [
    "# 1.\n",
    "Алгоритм основан на нормированной сумме мощности пересечения признаков неизвестного примера с примерами-(+) и примерами-(-). Неизвестный пример относится к тому набору, где эта сумма больша."
   ]
  },
  {
   "cell_type": "code",
   "execution_count": 30,
   "metadata": {
    "collapsed": false
   },
   "outputs": [],
   "source": [
    "def vlob(plus, minus, x_test, y_test):\n",
    "    y_pred=[]\n",
    "    for i in x_test:\n",
    "        unkn_set=i\n",
    "        pos=0\n",
    "        neg=0\n",
    "\n",
    "        for j in plus:\n",
    "            pos_set=j\n",
    "            res=pos_set & unkn_set\n",
    "            pos+=float(len(res)) / len(pos_set)\n",
    "        pos=float(pos) / len(plus) \n",
    "\n",
    "        for j in minus:\n",
    "            neg_set=j\n",
    "            res=neg_set & unkn_set\n",
    "            neg+=float(len(res)) / len(neg_set)\n",
    "        neg=float(neg) / len(minus) \n",
    "\n",
    "        if (pos < neg):\n",
    "            y_pred.append(0)\n",
    "        else:\n",
    "            y_pred.append(1)\n",
    "\n",
    "    y_pred=np.array(y_pred)\n",
    "    y_test=np.array(y_test)\n",
    "    \n",
    "    return print_metris(y_test, y_pred)"
   ]
  },
  {
   "cell_type": "code",
   "execution_count": null,
   "metadata": {
    "collapsed": true
   },
   "outputs": [],
   "source": []
  },
  {
   "cell_type": "markdown",
   "metadata": {},
   "source": [
    "# 2.\n",
    "\n",
    "\n",
    "#### Простой алгоритм. \n",
    "\n",
    "Пересекаем с положительным и проверяем чтобы пересечение не вкладывалось ни в одно отрицательное. если все так, то начисляем голос в виде \"относительной мощности пересечения\".  \n",
    "\n",
    "То же самое для отрицательных. \n",
    "\n",
    "Где сумма накопленных \"голосов\" больше - туда и классифицируем, в случае равенства смотрим по поддержке как в алгоритме 3.2 (с порогом 10.)"
   ]
  },
  {
   "cell_type": "code",
   "execution_count": 43,
   "metadata": {
    "collapsed": true
   },
   "outputs": [],
   "source": [
    "def is_in_intent(plus, minus, x_test, y_test):\n",
    "    y_pred=[]\n",
    "    counter=0\n",
    "    for i in x_test:\n",
    "        counter+=1\n",
    "        unkn_set=i\n",
    "        pos=0\n",
    "        neg=0\n",
    "\n",
    "        for j in plus:\n",
    "            pos_set=j\n",
    "            res=pos_set & unkn_set\n",
    "            closure=0\n",
    "            for k in minus:\n",
    "                if k.issuperset(res):\n",
    "                    closure+=1\n",
    "                    break\n",
    "                    \n",
    "            if closure==0:\n",
    "                pos+=float(len(res)) / len(pos_set)\n",
    "        pos=float(pos) / len(plus)   \n",
    "\n",
    "        for j in minus:\n",
    "            neg_set=j\n",
    "            res=neg_set & unkn_set\n",
    "            closure=0\n",
    "            for k in plus:\n",
    "                if k.issuperset(res):\n",
    "                    closure+=1\n",
    "                    break\n",
    "                    \n",
    "            if closure==0:\n",
    "                neg+=float(len(res)) / len(neg_set)\n",
    "        neg=float(neg) / len(minus) \n",
    "\n",
    "#        if (counter % 10 == 0):\n",
    "#            print 'done {} %'.format( round(float(counter)/len(x_test)*100, 2) )\n",
    "\n",
    "        if (pos < neg):\n",
    "            y_pred.append(0)\n",
    "        else:\n",
    "            if (neg < pos):\n",
    "                y_pred.append(1)\n",
    "            else:\n",
    "                # берем алгоритм 3. -- киллер фича.\n",
    "                tresh=10 # порог вычисленный.\n",
    "                if (pos==0 and neg==0):\n",
    "                    for j in plus:\n",
    "                        pos_set=j\n",
    "                        res=pos_set & unkn_set\n",
    "                        if len(res)!=0:\n",
    "                            closure1=0.0\n",
    "                            for k in plus:\n",
    "                                if k.issuperset(res) and k!=j:\n",
    "                                    closure1+=1\n",
    "                            if closure1>tresh:\n",
    "                                pos+= float(closure1) / len(plus) * float(len(res)) / len(pos_set)\n",
    "                    pos=  float(pos) / len(plus) \n",
    "\n",
    "                    for j in minus:\n",
    "                        neg_set=j\n",
    "                        res=neg_set & unkn_set\n",
    "                        if len(res)!=0:\n",
    "                            closure2=0\n",
    "                            for k in minus :\n",
    "                                if k.issuperset(res) and k!=j:\n",
    "                                    closure2+=1\n",
    "                            if closure2>tresh:        \n",
    "                                neg+=float(closure2) / len(minus) * float(len(res)) / len(neg_set) \n",
    "                    neg =  float(neg) / len(minus) \n",
    "\n",
    "                    if (pos < neg):\n",
    "                        y_pred.append(0)\n",
    "                    else:\n",
    "                        y_pred.append(1)\n",
    "            \n",
    "            \n",
    "\n",
    "    y_pred=np.array(y_pred)\n",
    "    y_test=np.array(y_test)\n",
    "    \n",
    "    return print_metris(y_test, y_pred)"
   ]
  },
  {
   "cell_type": "code",
   "execution_count": null,
   "metadata": {
    "collapsed": true
   },
   "outputs": [],
   "source": []
  },
  {
   "cell_type": "code",
   "execution_count": null,
   "metadata": {
    "collapsed": true
   },
   "outputs": [],
   "source": []
  },
  {
   "cell_type": "markdown",
   "metadata": {},
   "source": [
    "# 3.1\n",
    "\n",
    "### Задаем веса рассматривая поддержку\n",
    "\n",
    "для примера начисляем голос пропорционально \"относительной мощности пересечения\" пересечения (признаков неизвестного примера и (+)примера) с остальными (+)-примерами, если это пересечение вкладывается в них  \n",
    "\n",
    "для минуса то же самое.\n",
    "\n",
    "Где больше - туда и относим"
   ]
  },
  {
   "cell_type": "code",
   "execution_count": 40,
   "metadata": {
    "collapsed": true
   },
   "outputs": [],
   "source": [
    "def is_in_int1(plus, minus, x_test, y_test):\n",
    "    y_pred=[]\n",
    "    counter=0\n",
    "    for i in x_test:\n",
    "        counter+=1\n",
    "        unkn_set=i\n",
    "        pos=0\n",
    "        neg=0\n",
    "\n",
    "        for j in plus:\n",
    "            pos_set=j\n",
    "            res=pos_set & unkn_set\n",
    "            if len(res)!=0:\n",
    "                for k in plus:\n",
    "                    if k.issuperset(res) and k!=j:\n",
    "                        #pos+= 1.0 * len(res) / len(plus) #float(len(k&res)) / len(res) * float(len(res)) / len (pos_set) / len(plus)\n",
    "                        pos+= float(len(k&res)) / len(res) * float(len(res)) / len (pos_set) / len(plus)\n",
    "                        \n",
    "        pos=  float(pos) / len(plus) \n",
    "\n",
    "        for j in minus:\n",
    "            neg_set=j\n",
    "            res=neg_set & unkn_set\n",
    "            if len(res)!=0:\n",
    "                for k in minus :\n",
    "                    if k.issuperset(res) and k!=j:\n",
    "                        #neg+= 1.0 * len(res) / len(minus) #float(len(k&res)) / len(res) * float(len(res)) / len(neg_set) / len(minus)\n",
    "                        neg+= float(len(k&res)) / len(res) * float(len(res)) / len(neg_set) / len(minus)\n",
    "\n",
    "        neg =  float(neg) / len(minus) \n",
    "\n",
    "        if (pos < neg):\n",
    "            y_pred.append(0)\n",
    "        else:\n",
    "            if (pos==0 and neg==0):\n",
    "                print 'i dont know'\n",
    "                y_pred.append(0.5)\n",
    "            else:\n",
    "                y_pred.append(1)\n",
    "\n",
    "    y_pred=np.array(y_pred)\n",
    "    y_test=np.array(y_test)\n",
    "    end=datetime.datetime.now()\n",
    "\n",
    "    \n",
    "    return print_metris(y_test, y_pred) "
   ]
  },
  {
   "cell_type": "code",
   "execution_count": null,
   "metadata": {
    "collapsed": true
   },
   "outputs": [],
   "source": []
  },
  {
   "cell_type": "markdown",
   "metadata": {},
   "source": [
    "# 3.2\n",
    "\n",
    "\n",
    "### Переход к простым весам и порог для поддержки\n",
    "\n",
    "#### лучший tresh = 10 максимизирующий среднее accuracy для tic-tac data set\n",
    "\n",
    "для плюс контекста начисляем голос пропорционально поддержке, если она больше порога.\n",
    "\n",
    "для минуса то же самое.\n",
    "\n",
    "Где больше - туда и относим"
   ]
  },
  {
   "cell_type": "code",
   "execution_count": 33,
   "metadata": {
    "collapsed": true
   },
   "outputs": [],
   "source": [
    "def is_in_int2(plus, minus, x_test, y_test, tresh):\n",
    "    begin=datetime.datetime.now()\n",
    "    y_pred=[]\n",
    "    counter=0\n",
    "    for i in x_test:\n",
    "        counter+=1\n",
    "        unkn_set=i\n",
    "        \n",
    "        pos=0\n",
    "        neg=0\n",
    "\n",
    "        for j in plus:\n",
    "            pos_set=j\n",
    "            res=pos_set & unkn_set\n",
    "            if len(res)!=0:\n",
    "                closure1=0.0\n",
    "                for k in plus:\n",
    "                    if k.issuperset(res) and k!=j:\n",
    "                        closure1+=1\n",
    "                if closure1>tresh:\n",
    "                    pos+= float(closure1) / len(plus) * float(len(res)) / len(pos_set)\n",
    "                        \n",
    "        pos=  float(pos) / len(plus) \n",
    "\n",
    "        for j in minus:\n",
    "            neg_set=j\n",
    "            res=neg_set & unkn_set\n",
    "            if len(res)!=0:\n",
    "                closure2=0\n",
    "                for k in minus :\n",
    "                    if k.issuperset(res) and k!=j:\n",
    "                        closure2+=1\n",
    "                if closure2>tresh:        \n",
    "                    neg+=float(closure2) / len(minus) * float(len(res)) / len(neg_set) \n",
    "                \n",
    "        neg =  float(neg) / len(minus) \n",
    "        \n",
    "           \n",
    "        if (pos < neg):\n",
    "            y_pred.append(0)\n",
    "        else:\n",
    "            if (pos==0 and neg==0):\n",
    "                print 'i dont know' # for roc auc - 0,5\n",
    "                y_pred.append(0.5)\n",
    "            else:\n",
    "                y_pred.append(1)\n",
    "\n",
    "    y_pred=np.array(y_pred)\n",
    "    y_test=np.array(y_test)\n",
    "    end=datetime.datetime.now()\n",
    "  \n",
    "    return print_metris(y_test, y_pred) "
   ]
  },
  {
   "cell_type": "code",
   "execution_count": null,
   "metadata": {
    "collapsed": true
   },
   "outputs": [],
   "source": []
  },
  {
   "cell_type": "markdown",
   "metadata": {},
   "source": [
    "# 4.\n",
    "\n",
    "### Объединяем 2 и 3.1 алгоритмы\n",
    "\n",
    "##### задаем штраф если пересечение с плюс примером вкладывается в отрицательный пример.\n",
    "(видимо, логично, что порог на штраф тут 0, ведь поддержка то никак не должна влиять, либо влиять как то отрицательно)\n",
    "\n",
    "### Лучший thresh = 0 "
   ]
  },
  {
   "cell_type": "code",
   "execution_count": 85,
   "metadata": {
    "collapsed": true
   },
   "outputs": [],
   "source": [
    "def costs_and_penalty(plus, minus, x_test, y_test, tresh):\n",
    "    y_pred=[]\n",
    "    counter=0\n",
    "    for i in x_test:\n",
    "        counter+=1\n",
    "        unkn_set=i\n",
    "        pos=0\n",
    "        neg=0\n",
    "\n",
    "        for j in plus:\n",
    "            pos_set=j\n",
    "            res=pos_set & unkn_set\n",
    "            if len(res)!=0:\n",
    "                closure=0\n",
    "                for k in minus:\n",
    "                    if k.issuperset(res):\n",
    "                        closure+=float(len(k&res)) / len(res)\n",
    "\n",
    "                if closure != 0:        \n",
    "                    closure1=0\n",
    "                    for k in plus:\n",
    "                        if k.issuperset(res):\n",
    "                            closure1+=float(len(k&res)) / len(res)\n",
    "\n",
    "                if (closure == 0):\n",
    "                    pos+=float(len(res)) / len(pos_set) / len(plus)\n",
    "                else:\n",
    "                    if (closure1 > tresh):\n",
    "                        pos-= float(closure) / len(minus) * float(closure1) / len(plus) * (float(len(res)) / len(pos_set))  / len(plus)\n",
    "                        \n",
    "        for j in minus:\n",
    "            neg_set=(j)\n",
    "            res=neg_set&unkn_set\n",
    "            if len(res)!=0:\n",
    "                closure=0\n",
    "                for k in plus:\n",
    "                    if k.issuperset(res):\n",
    "                        closure+=float(len(k&res))/len(res)\n",
    "\n",
    "                if closure != 0:        \n",
    "                    closure1=0\n",
    "                    for k in minus:\n",
    "                        if k.issuperset(res):\n",
    "                            closure1+=float(len(k&res))/len(res)\n",
    "\n",
    "                if (closure == 0):\n",
    "                    neg+=float(len(res))/len(neg_set) / len(minus)\n",
    "                else:\n",
    "                    if (closure1 > tresh):\n",
    "                         neg-= float( closure ) / len( plus ) * float(closure1) / len(minus) * (float(len(res)) / len(neg_set))  / len(minus)\n",
    "\n",
    "#        if (counter % 10 == 0):\n",
    "#            print 'done ', round(float(counter)/len(x_test)*100, 2) , ' %  in ',datetime.datetime.now()-begin\n",
    "\n",
    "        if (pos < neg):\n",
    "            y_pred.append(0)\n",
    "        else:\n",
    "            if (pos == 0 and neg == 0):\n",
    "                print 'i dont know'\n",
    "                y_pred.append(0.5)\n",
    "            else:\n",
    "                y_pred.append(1)\n",
    "\n",
    "    y_pred=np.array(y_pred)\n",
    "    y_test=np.array(y_test)\n",
    "\n",
    "    return print_metris(y_test, y_pred)"
   ]
  },
  {
   "cell_type": "code",
   "execution_count": null,
   "metadata": {
    "collapsed": true
   },
   "outputs": [],
   "source": []
  },
  {
   "cell_type": "code",
   "execution_count": null,
   "metadata": {
    "collapsed": true
   },
   "outputs": [],
   "source": []
  },
  {
   "cell_type": "code",
   "execution_count": null,
   "metadata": {
    "collapsed": true
   },
   "outputs": [],
   "source": []
  },
  {
   "cell_type": "markdown",
   "metadata": {
    "collapsed": true
   },
   "source": [
    "# Test \n",
    "\n",
    "### Скользящий контроль - обучается, тестируем."
   ]
  },
  {
   "cell_type": "code",
   "execution_count": 31,
   "metadata": {
    "collapsed": true
   },
   "outputs": [],
   "source": [
    "def print_metris(y_test, y_pred):\n",
    "    acc = accuracy_score(y_test, y_pred)\n",
    "    return acc"
   ]
  },
  {
   "cell_type": "markdown",
   "metadata": {},
   "source": [
    "##### 1 алгоритм. "
   ]
  },
  {
   "cell_type": "markdown",
   "metadata": {},
   "source": [
    "###### Kr vs kp data set"
   ]
  },
  {
   "cell_type": "code",
   "execution_count": 47,
   "metadata": {
    "collapsed": false
   },
   "outputs": [
    {
     "name": "stdout",
     "output_type": "stream",
     "text": [
      "0  train,  0  test. Accuracy _  0.79\n",
      "1  train,  1  test. Accuracy _  0.781\n",
      "2  train,  2  test. Accuracy _  0.806\n",
      "3  train,  3  test. Accuracy _  0.834\n",
      "4  train,  4  test. Accuracy _  0.818\n",
      "5  train,  5  test. Accuracy _  0.815\n",
      "6  train,  6  test. Accuracy _  0.803\n",
      "7  train,  7  test. Accuracy _  0.781\n",
      "8  train,  8  test. Accuracy _  0.789\n",
      "9  train,  9  test. Accuracy _  0.777\n",
      "finished! in time   0:00:23.006239\n",
      "My average accuracy  0.799\n"
     ]
    }
   ],
   "source": [
    "acc=0.0\n",
    "counter=0\n",
    "begin=datetime.datetime.now()\n",
    "for i in range(0,10):\n",
    "    counter+=1\n",
    "    plus, minus, x_test, y_test = read_files([i],[i])\n",
    "    res_acc=vlob(plus, minus, x_test, y_test)\n",
    "    print i,' train, ', (i), ' test. Accuracy _ ', round(res_acc,3)\n",
    "    acc+=res_acc\n",
    "end=datetime.datetime.now()\n",
    "print 'finished! in time  ',end-begin\n",
    "print 'My average accuracy ',round(acc/counter,3)"
   ]
  },
  {
   "cell_type": "markdown",
   "metadata": {},
   "source": [
    "###### tic tac data set"
   ]
  },
  {
   "cell_type": "code",
   "execution_count": 121,
   "metadata": {
    "collapsed": false
   },
   "outputs": [
    {
     "name": "stdout",
     "output_type": "stream",
     "text": [
      "1  train,  1  test. Accuracy _  0.624\n",
      "2  train,  2  test. Accuracy _  0.644\n",
      "3  train,  3  test. Accuracy _  0.73\n",
      "4  train,  4  test. Accuracy _  0.596\n",
      "5  train,  5  test. Accuracy _  0.618\n",
      "6  train,  6  test. Accuracy _  0.694\n",
      "7  train,  7  test. Accuracy _  0.658\n",
      "8  train,  8  test. Accuracy _  0.664\n",
      "9  train,  9  test. Accuracy _  0.757\n",
      "10  train,  10  test. Accuracy _  0.604\n",
      "finished! in time   0:00:00.741224\n",
      "My average accuracy  0.659\n"
     ]
    }
   ],
   "source": [
    "acc=0.0\n",
    "counter=0\n",
    "begin=datetime.datetime.now()\n",
    "for i in range(1,11):\n",
    "    counter+=1\n",
    "    plus, minus, x_test, y_test = read_files([i],[i])\n",
    "    res_acc=vlob(plus, minus, x_test, y_test)\n",
    "    print i,' train, ', (i), ' test. Accuracy _ ', round(res_acc,3)\n",
    "    acc+=res_acc\n",
    "end=datetime.datetime.now()\n",
    "print 'finished! in time  ',end-begin\n",
    "print 'My average accuracy ',round(acc/counter,3)"
   ]
  },
  {
   "cell_type": "code",
   "execution_count": null,
   "metadata": {
    "collapsed": true
   },
   "outputs": [],
   "source": []
  },
  {
   "cell_type": "markdown",
   "metadata": {},
   "source": [
    "##### 2 алгоритм"
   ]
  },
  {
   "cell_type": "markdown",
   "metadata": {},
   "source": [
    "###### Kr vs kp data set"
   ]
  },
  {
   "cell_type": "code",
   "execution_count": 46,
   "metadata": {
    "collapsed": false
   },
   "outputs": [
    {
     "name": "stdout",
     "output_type": "stream",
     "text": [
      "0  train,  0  test. Accuracy _  0.975\n",
      "1  train,  1  test. Accuracy _  0.981\n",
      "2  train,  2  test. Accuracy _  0.978\n",
      "3  train,  3  test. Accuracy _  0.978\n",
      "4  train,  4  test. Accuracy _  0.981\n",
      "5  train,  5  test. Accuracy _  0.978\n",
      "6  train,  6  test. Accuracy _  0.984\n",
      "7  train,  7  test. Accuracy _  0.981\n",
      "8  train,  8  test. Accuracy _  0.978\n",
      "9  train,  9  test. Accuracy _  0.981\n",
      "finished! in time   0:12:56.866718\n",
      "My average accuracy  0.979611009247\n"
     ]
    }
   ],
   "source": [
    "acc=0.0\n",
    "counter=0\n",
    "begin=datetime.datetime.now()\n",
    "for i in range(0,10):\n",
    "    counter+=1\n",
    "    plus, minus, x_test, y_test = read_files([i],[i])\n",
    "    res_acc=is_in_intent(plus, minus, x_test, y_test)\n",
    "    print i,' train, ', (i), ' test. Accuracy _ ', round(res_acc,3)\n",
    "    acc+=res_acc\n",
    "end=datetime.datetime.now()\n",
    "print 'finished! in time  ',end-begin\n",
    "print 'My average accuracy ',float(acc)/counter"
   ]
  },
  {
   "cell_type": "markdown",
   "metadata": {},
   "source": [
    "###### tic tac data set"
   ]
  },
  {
   "cell_type": "code",
   "execution_count": 44,
   "metadata": {
    "collapsed": false
   },
   "outputs": [
    {
     "name": "stdout",
     "output_type": "stream",
     "text": [
      "1  train,  1  test. Accuracy _  0.989\n",
      "2  train,  2  test. Accuracy _  0.977\n",
      "3  train,  3  test. Accuracy _  1.0\n",
      "4  train,  4  test. Accuracy _  0.978\n",
      "5  train,  5  test. Accuracy _  0.978\n",
      "6  train,  6  test. Accuracy _  1.0\n",
      "7  train,  7  test. Accuracy _  0.991\n",
      "8  train,  8  test. Accuracy _  0.991\n",
      "9  train,  9  test. Accuracy _  1.0\n",
      "10  train,  10  test. Accuracy _  1.0\n",
      "finished! in time   0:00:09.279442\n",
      "My average accuracy  0.990319726164\n"
     ]
    }
   ],
   "source": [
    "acc=0.0\n",
    "counter=0\n",
    "begin=datetime.datetime.now()\n",
    "for i in range(1,11):\n",
    "    counter+=1\n",
    "    plus, minus, x_test, y_test = read_files([i],[i])\n",
    "    res_acc=is_in_intent(plus, minus, x_test, y_test)\n",
    "    print i,' train, ', (i), ' test. Accuracy _ ', round(res_acc,3)\n",
    "    acc+=res_acc\n",
    "end=datetime.datetime.now()\n",
    "print 'finished! in time  ',end-begin\n",
    "print 'My average accuracy ',float(acc)/counter"
   ]
  },
  {
   "cell_type": "code",
   "execution_count": null,
   "metadata": {
    "collapsed": true
   },
   "outputs": [],
   "source": []
  },
  {
   "cell_type": "markdown",
   "metadata": {},
   "source": [
    "##### 3.1 алгоритм"
   ]
  },
  {
   "cell_type": "markdown",
   "metadata": {},
   "source": [
    "###### tic tac data set"
   ]
  },
  {
   "cell_type": "code",
   "execution_count": 41,
   "metadata": {
    "collapsed": false
   },
   "outputs": [
    {
     "name": "stdout",
     "output_type": "stream",
     "text": [
      "1  train,  1  test. Accuracy _  0.935\n",
      "2  train,  2  test. Accuracy _  0.954\n",
      "3  train,  3  test. Accuracy _  0.93\n",
      "4  train,  4  test. Accuracy _  0.921\n",
      "5  train,  5  test. Accuracy _  0.899\n",
      "6  train,  6  test. Accuracy _  0.953\n",
      "7  train,  7  test. Accuracy _  0.939\n",
      "8  train,  8  test. Accuracy _  0.907\n",
      "9  train,  9  test. Accuracy _  0.961\n",
      "finished! in time   0:01:12.694700\n",
      "My average accuracy  0.933\n"
     ]
    }
   ],
   "source": [
    "acc=0.0\n",
    "counter=0\n",
    "begin=datetime.datetime.now()\n",
    "for i in range(1,10):\n",
    "    counter+=1\n",
    "    plus, minus, x_test, y_test = read_files([i],[i])\n",
    "    res_acc=is_in_int1(plus, minus, x_test, y_test)\n",
    "    print i,' train, ', (i), ' test. Accuracy _ ', round(res_acc,3)\n",
    "    acc+=res_acc\n",
    "end=datetime.datetime.now()\n",
    "print 'finished! in time  ',end-begin\n",
    "print 'My average accuracy ',round(acc/counter,3)"
   ]
  },
  {
   "cell_type": "markdown",
   "metadata": {},
   "source": [
    "##### 3.2 алгоритм с порогом  = 10"
   ]
  },
  {
   "cell_type": "markdown",
   "metadata": {},
   "source": [
    "###### tic tac data set"
   ]
  },
  {
   "cell_type": "code",
   "execution_count": 68,
   "metadata": {
    "collapsed": false
   },
   "outputs": [
    {
     "name": "stdout",
     "output_type": "stream",
     "text": [
      "1  train,  1  test. Accuracy _  1.0\n",
      "2  train,  2  test. Accuracy _  0.977\n",
      "3  train,  3  test. Accuracy _  0.98\n",
      "4  train,  4  test. Accuracy _  0.955\n",
      "5  train,  5  test. Accuracy _  0.978\n",
      "6  train,  6  test. Accuracy _  1.0\n",
      "7  train,  7  test. Accuracy _  0.982\n",
      "8  train,  8  test. Accuracy _  0.972\n",
      "9  train,  9  test. Accuracy _  0.971\n",
      "finished! in time   0:00:45.582539\n",
      "My average accuracy  0.979432034166\n"
     ]
    }
   ],
   "source": [
    "acc=0.0\n",
    "counter=0\n",
    "begin=datetime.datetime.now()\n",
    "for i in range(1,10):\n",
    "    counter+=1\n",
    "    plus, minus, x_test, y_test = read_files([i],[i])\n",
    "    res_acc=is_in_int2(plus, minus, x_test, y_test, 10)\n",
    "    print i,' train, ', (i), ' test. Accuracy _ ', round(res_acc,3)\n",
    "    acc+=res_acc\n",
    "end=datetime.datetime.now()\n",
    "print 'finished! in time  ',end-begin\n",
    "print 'My average accuracy ',acc/counter"
   ]
  },
  {
   "cell_type": "markdown",
   "metadata": {},
   "source": [
    "##### 4. алгоритм с порогом 0"
   ]
  },
  {
   "cell_type": "markdown",
   "metadata": {},
   "source": [
    "###### tic tac data set"
   ]
  },
  {
   "cell_type": "code",
   "execution_count": 62,
   "metadata": {
    "collapsed": false
   },
   "outputs": [
    {
     "name": "stdout",
     "output_type": "stream",
     "text": [
      "1  train,  1  test. Accuracy _  0.989\n",
      "2  train,  2  test. Accuracy _  0.977\n",
      "3  train,  3  test. Accuracy _  1.0\n",
      "4  train,  4  test. Accuracy _  0.978\n",
      "5  train,  5  test. Accuracy _  0.978\n",
      "6  train,  6  test. Accuracy _  1.0\n",
      "7  train,  7  test. Accuracy _  0.991\n",
      "8  train,  8  test. Accuracy _  0.991\n",
      "9  train,  9  test. Accuracy _  1.0\n",
      "finished! in time   0:01:31.238565\n",
      "My average accuracy  0.989244140182\n"
     ]
    }
   ],
   "source": [
    "acc=0.0\n",
    "counter=0\n",
    "begin=datetime.datetime.now()\n",
    "for i in range(1,10):\n",
    "    counter+=1\n",
    "    plus, minus, x_test, y_test = read_files([i],[i])\n",
    "    res_acc=costs_and_penalty(plus, minus, x_test, y_test,0)\n",
    "    print i,' train, ', (i), ' test. Accuracy _ ', round(res_acc,3)\n",
    "    acc+=res_acc\n",
    "end=datetime.datetime.now()\n",
    "print 'finished! in time  ',end-begin\n",
    "print 'My average accuracy ', acc/counter"
   ]
  },
  {
   "cell_type": "code",
   "execution_count": null,
   "metadata": {
    "collapsed": false
   },
   "outputs": [],
   "source": []
  },
  {
   "cell_type": "code",
   "execution_count": null,
   "metadata": {
    "collapsed": false
   },
   "outputs": [],
   "source": []
  },
  {
   "cell_type": "markdown",
   "metadata": {
    "collapsed": false
   },
   "source": [
    "### Подбор порогов для алгоритмов 3.2 и 4."
   ]
  },
  {
   "cell_type": "code",
   "execution_count": 63,
   "metadata": {
    "collapsed": true
   },
   "outputs": [],
   "source": [
    "import numpy as np"
   ]
  },
  {
   "cell_type": "markdown",
   "metadata": {},
   "source": [
    "###### tic tac data set"
   ]
  },
  {
   "cell_type": "code",
   "execution_count": 64,
   "metadata": {
    "collapsed": false
   },
   "outputs": [
    {
     "name": "stdout",
     "output_type": "stream",
     "text": [
      "1  train,  1  test\n",
      "tr  0   and acc  0.935483870968\n",
      "tr  1   and acc  0.94623655914\n",
      "tr  2   and acc  0.978494623656\n",
      "tr  3   and acc  0.978494623656\n",
      "tr  4   and acc  0.989247311828\n",
      "tr  5   and acc  1.0\n",
      "tr  6   and acc  1.0\n",
      "tr  7   and acc  1.0\n",
      "tr  8   and acc  1.0\n",
      "tr  9   and acc  1.0\n",
      "2  train,  2  test\n",
      "tr  0   and acc  0.954022988506\n",
      "tr  1   and acc  0.954022988506\n",
      "tr  2   and acc  0.954022988506\n",
      "tr  3   and acc  0.942528735632\n",
      "tr  4   and acc  0.954022988506\n",
      "tr  5   and acc  0.954022988506\n",
      "tr  6   and acc  0.954022988506\n",
      "tr  7   and acc  0.965517241379\n",
      "tr  8   and acc  0.965517241379\n",
      "tr  9   and acc  0.977011494253\n",
      "3  train,  3  test\n",
      "tr  0   and acc  0.93\n",
      "tr  1   and acc  0.94\n",
      "tr  2   and acc  0.96\n",
      "tr  3   and acc  0.95\n",
      "tr  4   and acc  0.96\n",
      "tr  5   and acc  0.96\n",
      "tr  6   and acc  0.97\n",
      "tr  7   and acc  0.97\n",
      "tr  8   and acc  0.98\n",
      "tr  9   and acc  0.98\n",
      "4  train,  4  test\n",
      "tr  0   and acc  0.921348314607\n",
      "tr  1   and acc  0.921348314607\n",
      "tr  2   and acc  0.921348314607\n",
      "tr  3   and acc  0.921348314607\n",
      "tr  4   and acc  0.932584269663\n",
      "tr  5   and acc  0.943820224719\n",
      "tr  6   and acc  0.966292134831\n",
      "tr  7   and acc  0.955056179775\n",
      "tr  8   and acc  0.966292134831\n",
      "tr  9   and acc  0.955056179775\n",
      "5  train,  5  test\n",
      "tr  0   and acc  0.898876404494\n",
      "tr  1   and acc  0.898876404494\n",
      "tr  2   and acc  0.898876404494\n",
      "tr  3   and acc  0.898876404494\n",
      "tr  4   and acc  0.921348314607\n",
      "tr  5   and acc  0.943820224719\n",
      "tr  6   and acc  0.966292134831\n",
      "tr  7   and acc  0.977528089888\n",
      "tr  8   and acc  0.988764044944\n",
      "tr  9   and acc  0.977528089888\n",
      "6  train,  6  test\n",
      "tr  0   and acc  0.952941176471\n",
      "tr  1   and acc  0.952941176471\n",
      "tr  2   and acc  0.952941176471\n",
      "tr  3   and acc  0.988235294118\n",
      "tr  4   and acc  0.988235294118\n",
      "tr  5   and acc  0.988235294118\n",
      "tr  6   and acc  0.988235294118\n",
      "tr  7   and acc  0.988235294118\n",
      "tr  8   and acc  1.0\n",
      "tr  9   and acc  1.0\n",
      "7  train,  7  test\n",
      "tr  0   and acc  0.938596491228\n",
      "tr  1   and acc  0.938596491228\n",
      "tr  2   and acc  0.938596491228\n",
      "tr  3   and acc  0.938596491228\n",
      "tr  4   and acc  0.947368421053\n",
      "tr  5   and acc  0.947368421053\n",
      "tr  6   and acc  0.956140350877\n",
      "tr  7   and acc  0.964912280702\n",
      "tr  8   and acc  0.982456140351\n",
      "tr  9   and acc  0.991228070175\n",
      "8  train,  8  test\n",
      "tr  0   and acc  0.906542056075\n",
      "tr  1   and acc  0.906542056075\n",
      "tr  2   and acc  0.915887850467\n",
      "tr  3   and acc  0.934579439252\n",
      "tr  4   and acc  0.943925233645\n",
      "tr  5   and acc  0.953271028037\n",
      "tr  6   and acc  0.96261682243\n",
      "tr  7   and acc  0.971962616822\n",
      "tr  8   and acc  0.981308411215\n",
      "tr  9   and acc  0.971962616822\n",
      "9  train,  9  test\n",
      "tr  0   and acc  0.961165048544\n",
      "tr  1   and acc  0.970873786408\n",
      "tr  2   and acc  0.970873786408\n",
      "tr  3   and acc  0.980582524272\n",
      "tr  4   and acc  0.970873786408\n",
      "tr  5   and acc  0.980582524272\n",
      "tr  6   and acc  0.970873786408\n",
      "tr  7   and acc  0.970873786408\n",
      "tr  8   and acc  0.980582524272\n",
      "tr  9   and acc  0.980582524272\n",
      "finished! in time   0:08:01.198791\n",
      "My average accuracy  [ 0.93321959  0.9366042   0.94344907  0.94813798  0.95640062  0.96345786\n",
      "  0.97049706  0.97378728  0.98276894  0.98148544]\n"
     ]
    }
   ],
   "source": [
    "acc=[0.0 for i in range(0,10)]\n",
    "counter=0\n",
    "begin=datetime.datetime.now()\n",
    "for i in range(1,10):\n",
    "    counter+=1\n",
    "    plus, minus, x_test, y_test = read_files([i],[i])\n",
    "    print i,' train, ', (i), ' test'\n",
    "    for tresh in range(0,10):\n",
    "        res_acc=is_in_int2(plus, minus, x_test, y_test, tresh)\n",
    "        print 'tr ',tresh,'  and acc ', res_acc\n",
    "        acc[tresh]+=res_acc\n",
    "end=datetime.datetime.now()\n",
    "print 'finished! in time  ',end-begin\n",
    "print 'My average accuracy ',np.array(acc)/counter"
   ]
  },
  {
   "cell_type": "markdown",
   "metadata": {
    "collapsed": false
   },
   "source": [
    "> treshold = 10 \n",
    "\n",
    "> больше 12 - вышло что уменьшается точность"
   ]
  },
  {
   "cell_type": "markdown",
   "metadata": {},
   "source": [
    "###### tic tac data set"
   ]
  },
  {
   "cell_type": "code",
   "execution_count": 86,
   "metadata": {
    "collapsed": false
   },
   "outputs": [
    {
     "name": "stdout",
     "output_type": "stream",
     "text": [
      "1  train,  1  test\n",
      "tr  0   and acc  0.989247311828\n",
      "tr  1   and acc  0.989247311828\n",
      "tr  2   and acc  0.989247311828\n",
      "tr  3   and acc  0.989247311828\n",
      "tr  4   and acc  0.989247311828\n",
      "tr  5   and acc  0.989247311828\n",
      "tr  6   and acc  0.989247311828\n",
      "tr  7   and acc  0.989247311828\n",
      "tr  8   and acc  0.989247311828\n",
      "tr  9   and acc  0.989247311828\n",
      "2  train,  2  test\n",
      "tr  0   and acc  0.977011494253\n",
      "tr  1   and acc  0.977011494253\n",
      "tr  2   and acc  0.977011494253\n",
      "tr  3   and acc  0.977011494253\n",
      "tr  4   and acc  0.977011494253\n",
      "tr  5   and acc  0.977011494253\n",
      "tr  6   and acc  0.977011494253\n",
      "tr  7   and acc  0.977011494253\n",
      "tr  8   and acc  0.977011494253\n",
      "tr  9   and acc  0.977011494253\n",
      "3  train,  3  test\n",
      "tr  0   and acc  1.0\n",
      "tr  1   and acc  1.0\n",
      "tr  2   and acc  1.0\n",
      "tr  3   and acc  1.0\n",
      "tr  4   and acc  1.0\n",
      "tr  5   and acc  1.0\n",
      "tr  6   and acc  1.0\n",
      "tr  7   and acc  1.0\n",
      "tr  8   and acc  1.0\n",
      "tr  9   and acc  1.0\n",
      "4  train,  4  test\n",
      "tr  0   and acc  0.977528089888\n",
      "tr  1   and acc  0.977528089888\n",
      "tr  2   and acc  0.977528089888\n",
      "tr  3   and acc  0.977528089888\n",
      "tr  4   and acc  0.977528089888\n",
      "tr  5   and acc  0.977528089888\n",
      "tr  6   and acc  0.977528089888\n",
      "tr  7   and acc  0.977528089888\n",
      "tr  8   and acc  0.977528089888\n",
      "tr  9   and acc  0.977528089888\n",
      "5  train,  5  test\n",
      "tr  0   and acc  0.977528089888\n",
      "tr  1   and acc  0.977528089888\n",
      "tr  2   and acc  0.977528089888\n",
      "tr  3   and acc  0.977528089888\n",
      "tr  4   and acc  0.977528089888\n",
      "tr  5   and acc  0.977528089888\n",
      "tr  6   and acc  0.977528089888\n",
      "tr  7   and acc  0.977528089888\n",
      "tr  8   and acc  0.977528089888\n",
      "tr  9   and acc  0.977528089888\n",
      "6  train,  6  test\n",
      "tr  0   and acc  1.0\n",
      "tr  1   and acc  1.0\n",
      "tr  2   and acc  1.0\n",
      "tr  3   and acc  1.0\n",
      "tr  4   and acc  1.0\n",
      "tr  5   and acc  1.0\n",
      "tr  6   and acc  1.0\n",
      "tr  7   and acc  1.0\n",
      "tr  8   and acc  1.0\n",
      "tr  9   and acc  1.0\n",
      "7  train,  7  test\n",
      "tr  0   and acc  0.991228070175\n",
      "tr  1   and acc  0.991228070175\n",
      "tr  2   and acc  0.991228070175\n",
      "tr  3   and acc  0.991228070175\n",
      "tr  4   and acc  0.991228070175\n",
      "tr  5   and acc  0.991228070175\n",
      "tr  6   and acc  0.991228070175\n",
      "tr  7   and acc  0.991228070175\n",
      "tr  8   and acc  0.991228070175\n",
      "tr  9   and acc  0.991228070175\n",
      "8  train,  8  test\n",
      "tr  0   and acc  0.990654205607\n",
      "tr  1   and acc  0.990654205607\n",
      "tr  2   and acc  0.990654205607\n",
      "tr  3   and acc  0.990654205607\n",
      "tr  4   and acc  0.990654205607\n",
      "tr  5   and acc  0.990654205607\n",
      "tr  6   and acc  0.990654205607\n",
      "tr  7   and acc  0.990654205607\n",
      "tr  8   and acc  0.990654205607\n",
      "tr  9   and acc  0.990654205607\n",
      "9  train,  9  test\n",
      "tr  0   and acc  1.0\n",
      "tr  1   and acc  1.0\n",
      "tr  2   and acc  1.0\n",
      "tr  3   and acc  1.0\n",
      "tr  4   and acc  1.0\n",
      "tr  5   and acc  1.0\n",
      "tr  6   and acc  1.0\n",
      "tr  7   and acc  1.0\n",
      "tr  8   and acc  1.0\n",
      "tr  9   and acc  1.0\n",
      "finished! in time   0:15:24.622116\n",
      "My average accuracy  [ 0.98924414  0.98924414  0.98924414  0.98924414  0.98924414  0.98924414\n",
      "  0.98924414  0.98924414  0.98924414  0.98924414]\n"
     ]
    }
   ],
   "source": [
    "acc=[0.0 for i in range(0,10)]\n",
    "counter=0\n",
    "begin=datetime.datetime.now()\n",
    "for i in range(1,10):\n",
    "    counter+=1\n",
    "    plus, minus, x_test, y_test = read_files([i],[i])\n",
    "    print i,' train, ', (i), ' test'\n",
    "    for tresh in range(0,10):\n",
    "        res_acc=costs_and_penalty(plus, minus, x_test, y_test, tresh)\n",
    "        print 'tr ',tresh,'  and acc ', res_acc\n",
    "        acc[tresh]+=res_acc\n",
    "end=datetime.datetime.now()\n",
    "print 'finished! in time  ',end-begin\n",
    "rr= np.array(acc)/counter\n",
    "print 'My average accuracy ',rr"
   ]
  },
  {
   "cell_type": "markdown",
   "metadata": {},
   "source": [
    "> тут понятно что порог - это лишнее"
   ]
  },
  {
   "cell_type": "code",
   "execution_count": 129,
   "metadata": {
    "collapsed": false
   },
   "outputs": [],
   "source": [
    "treshold = 0 #  возьмем меньшее, то есть если поддержка больше нуля."
   ]
  },
  {
   "cell_type": "markdown",
   "metadata": {},
   "source": [
    "### Распараллелим скользящий контроль"
   ]
  },
  {
   "cell_type": "code",
   "execution_count": 128,
   "metadata": {
    "collapsed": false
   },
   "outputs": [
    {
     "name": "stdout",
     "output_type": "stream",
     "text": [
      "2  train,  2  test\n",
      "1  train,  1  test\n",
      "3  train,  3  test\n",
      "4  train,  4  test\n",
      "6  train,  6  test\n",
      "5  train,  5  test\n",
      "10  train,  10  test\n",
      "7  train,  7  test\n",
      "8  train,  8  test\n",
      "9  train,  9  test\n",
      "finished! in time   0:00:15.950897\n",
      "My average accuracy  0.990319726164\n"
     ]
    }
   ],
   "source": [
    "from threading import Thread\n",
    "\n",
    "acc=[0.0 for i in range (1,11)]\n",
    "counter=0\n",
    "begin=datetime.datetime.now()\n",
    "\n",
    "def ww(i):\n",
    "    global acc\n",
    "    global counter\n",
    "    counter+=1\n",
    "    plus, minus, x_test, y_test = read_files([i],[i])\n",
    "    print i,' train, ', (i), ' test'\n",
    "    acc[i-1]+=is_in_intent(plus, minus, x_test, y_test)\n",
    "        \n",
    "\n",
    "t1 = Thread(target=ww, args=(1,))\n",
    "t2 = Thread(target=ww, args=(2,))\n",
    "t3 = Thread(target=ww, args=(3,))\n",
    "t4 = Thread(target=ww, args=(4,))\n",
    "t5 = Thread(target=ww, args=(5,))\n",
    "t6 = Thread(target=ww, args=(6,))\n",
    "t7 = Thread(target=ww, args=(7,))\n",
    "t8 = Thread(target=ww, args=(8,))\n",
    "t9 = Thread(target=ww, args=(9,))\n",
    "t10 = Thread(target=ww, args=(10,))\n",
    "t1.setDaemon(True) \n",
    "t2.setDaemon(True) \n",
    "t3.setDaemon(True) \n",
    "t4.setDaemon(True) \n",
    "t5.setDaemon(True) \n",
    "t6.setDaemon(True) \n",
    "t7.setDaemon(True) \n",
    "t8.setDaemon(True) \n",
    "t9.setDaemon(True) \n",
    "t10.setDaemon(True) \n",
    "\n",
    "t1.start()\n",
    "t2.start()\n",
    "t3.start()\n",
    "t4.start()\n",
    "t5.start()\n",
    "t6.start()\n",
    "t7.start()\n",
    "t8.start()\n",
    "t9.start()\n",
    "t10.start()\n",
    "\n",
    "\n",
    "t1.join()\n",
    "t2.join()\n",
    "t3.join()\n",
    "t4.join()\n",
    "t5.join()\n",
    "t6.join()\n",
    "t7.join()\n",
    "t8.join()\n",
    "t9.join()\n",
    "t10.join()\n",
    "\n",
    "end=datetime.datetime.now()\n",
    "print 'finished! in time  ',end-begin\n",
    "\n",
    "rr= np.sum(np.array(acc))/counter\n",
    "print 'My average accuracy ',rr"
   ]
  },
  {
   "cell_type": "code",
   "execution_count": null,
   "metadata": {
    "collapsed": false
   },
   "outputs": [],
   "source": []
  },
  {
   "cell_type": "markdown",
   "metadata": {},
   "source": [
    "> проверим  поведение алгоритма 3.2 при параметре больше 9  - самый лучший результат при параметре 10"
   ]
  },
  {
   "cell_type": "code",
   "execution_count": 67,
   "metadata": {
    "collapsed": false
   },
   "outputs": [
    {
     "name": "stdout",
     "output_type": "stream",
     "text": [
      "1  train,  1  test\n",
      "tr  10   and acc  1.0\n",
      "tr  11   and acc  1.0\n",
      "tr  12   and acc  1.0\n",
      "2  train,  2  test\n",
      "tr  10   and acc  0.977011494253\n",
      "tr  11   and acc  0.977011494253\n",
      "tr  12   and acc  0.977011494253\n",
      "3  train,  3  test\n",
      "tr  10   and acc  0.98\n",
      "tr  11   and acc  0.98\n",
      "tr  12   and acc  0.98\n",
      "4  train,  4  test\n",
      "tr  10   and acc  0.955056179775\n",
      "tr  11   and acc  0.955056179775\n",
      "tr  12   and acc  0.955056179775\n",
      "5  train,  5  test\n",
      "tr  10   and acc  0.977528089888\n",
      "tr  11   and acc  0.977528089888\n",
      "tr  12   and acc  0.977528089888\n",
      "6  train,  6  test\n",
      "tr  10   and acc  1.0\n",
      "tr  11   and acc  1.0\n",
      "tr  12   and acc  1.0\n",
      "7  train,  7  test\n",
      "tr  10   and acc  0.982456140351\n",
      "tr  11   and acc  0.982456140351\n",
      "tr  12   and acc  0.964912280702\n",
      "8  train,  8  test\n",
      "tr  10   and acc  0.971962616822\n",
      "tr  11   and acc  0.971962616822\n",
      "tr  12   and acc  0.96261682243\n",
      "9  train,  9  test\n",
      "tr  10   and acc  0.970873786408\n",
      "tr  11   and acc  0.970873786408\n",
      "tr  12   and acc  0.961165048544\n",
      "finished! in time   0:02:26.514989\n",
      "My average accuracy  [ 0.97943203  0.97943203  0.97536555]\n"
     ]
    }
   ],
   "source": [
    "acc=[0.0 for i in range(10,13)]\n",
    "counter=0\n",
    "begin=datetime.datetime.now()\n",
    "for i in range(1,10):\n",
    "    counter+=1\n",
    "    plus, minus, x_test, y_test = read_files([i],[i])\n",
    "    print i,' train, ', (i), ' test'\n",
    "    for tresh in range(10,13):\n",
    "        res_acc=is_in_int2(plus, minus, x_test, y_test, tresh)\n",
    "        print 'tr ',tresh,'  and acc ', res_acc\n",
    "        acc[tresh-10]+=res_acc\n",
    "end=datetime.datetime.now()\n",
    "print 'finished! in time  ',end-begin\n",
    "print 'My average accuracy ',np.array(acc)/counter"
   ]
  },
  {
   "cell_type": "code",
   "execution_count": null,
   "metadata": {
    "collapsed": true
   },
   "outputs": [],
   "source": []
  },
  {
   "cell_type": "code",
   "execution_count": null,
   "metadata": {
    "collapsed": true
   },
   "outputs": [],
   "source": []
  },
  {
   "cell_type": "markdown",
   "metadata": {},
   "source": [
    "# Посмотрим популярные алгоритмы классификации."
   ]
  },
  {
   "cell_type": "code",
   "execution_count": null,
   "metadata": {
    "collapsed": true
   },
   "outputs": [],
   "source": []
  },
  {
   "cell_type": "code",
   "execution_count": 65,
   "metadata": {
    "collapsed": false
   },
   "outputs": [],
   "source": [
    "import pandas as pd\n",
    "import numpy as np\n",
    "import copy\n",
    "from sklearn.metrics import roc_auc_score\n",
    "from sklearn.metrics import accuracy_score\n",
    "from sklearn.ensemble import RandomForestClassifier\n",
    "from sklearn.neighbors import KNeighborsClassifier\n",
    "from sklearn.svm import SVC\n"
   ]
  },
  {
   "cell_type": "markdown",
   "metadata": {},
   "source": [
    ">  код взят у YuliaNikonova. Спасибо ей!"
   ]
  },
  {
   "cell_type": "code",
   "execution_count": 66,
   "metadata": {
    "collapsed": true
   },
   "outputs": [],
   "source": [
    "\n",
    "def dummy_encode_categorical_columns(data):\n",
    "    result_data = copy.deepcopy(data)\n",
    "    for column in data.columns.values:\n",
    "        result_data = pd.concat([result_data, pd.get_dummies(result_data[column], prefix = column, prefix_sep = ': ')], axis = 1)\n",
    "        del result_data[column]\n",
    "    return result_data\n",
    "\n",
    "def parse_file(name):\n",
    "    df = pd.read_csv(name, sep=',')\n",
    "    df = df.replace(to_replace='positive', value=1)\n",
    "    df = df.replace(to_replace='negative', value=0)\n",
    "    y = np.array(df['V10'])\n",
    "    del df['V10']\n",
    "    bin_df = dummy_encode_categorical_columns(df)\n",
    "    return np.array(bin_df).astype(int), y\n",
    "    "
   ]
  },
  {
   "cell_type": "markdown",
   "metadata": {},
   "source": [
    ">  дальше мой)"
   ]
  },
  {
   "cell_type": "code",
   "execution_count": 84,
   "metadata": {
    "collapsed": false
   },
   "outputs": [
    {
     "name": "stdout",
     "output_type": "stream",
     "text": [
      "test  1 train 1\n",
      "   SVM  Accuracy: 1.0\n",
      "   RF Accuracy: 0.989247311828\n",
      "   KNN Accuracy: 1.0\n",
      "test  2 train 2\n",
      "   SVM  Accuracy: 1.0\n",
      "   RF Accuracy: 0.977011494253\n",
      "   KNN Accuracy: 0.965517241379\n",
      "test  3 train 3\n",
      "   SVM  Accuracy: 1.0\n",
      "   RF Accuracy: 1.0\n",
      "   KNN Accuracy: 0.96\n",
      "test  4 train 4\n",
      "   SVM  Accuracy: 0.988764044944\n",
      "   RF Accuracy: 0.977528089888\n",
      "   KNN Accuracy: 0.977528089888\n",
      "test  5 train 5\n",
      "   SVM  Accuracy: 1.0\n",
      "   RF Accuracy: 0.966292134831\n",
      "   KNN Accuracy: 0.988764044944\n",
      "test  6 train 6\n",
      "   SVM  Accuracy: 1.0\n",
      "   RF Accuracy: 1.0\n",
      "   KNN Accuracy: 1.0\n",
      "test  7 train 7\n",
      "   SVM  Accuracy: 1.0\n",
      "   RF Accuracy: 0.982456140351\n",
      "   KNN Accuracy: 0.964912280702\n",
      "test  8 train 8\n",
      "   SVM  Accuracy: 1.0\n",
      "   RF Accuracy: 0.981308411215\n",
      "   KNN Accuracy: 0.990654205607\n",
      "test  9 train 9\n",
      "   SVM  Accuracy: 1.0\n",
      "   RF Accuracy: 0.990291262136\n",
      "   KNN Accuracy: 0.990291262136\n",
      "test  10 train 10\n",
      "   SVM  Accuracy: 1.0\n",
      "   RF Accuracy: 1.0\n",
      "   KNN Accuracy: 0.989010989011\n",
      "\n",
      "svm avg acc  0.998876404494\n",
      "rf avg acc  0.98641348445\n",
      "knn avg acc  0.982667811367\n"
     ]
    }
   ],
   "source": [
    "res1=0.0\n",
    "res2=0.0\n",
    "res3=0.0\n",
    "\n",
    "for i in range (1,11):\n",
    "    str1='../train'+str(i)+'.csv'\n",
    "    str2='../test'+str(i)+'.csv'\n",
    "    X, y = parse_file(str1)\n",
    "    X_test, y_test = parse_file(str2)\n",
    "\n",
    "    clf1 = SVC(C=25,gamma=0.16)\n",
    "    clf1.fit(X, y)\n",
    "    y_pred1 = clf1.predict(X_test)\n",
    "    acc1 = accuracy_score(y_test, y_pred1)\n",
    "    \n",
    "    clf2 = RandomForestClassifier(n_estimators=100, random_state=3, min_samples_leaf=1, n_jobs=2) \n",
    "    clf2.fit(X, y)\n",
    "    y_pred2 = clf2.predict(X_test)\n",
    "    acc2 = accuracy_score(y_test, y_pred2)\n",
    "    \n",
    "\n",
    "    clf3 =  KNeighborsClassifier(n_neighbors=18, n_jobs=2, p=1, weights='distance') \n",
    "    clf3.fit(X, y)\n",
    "    y_pred3 = clf3.predict(X_test)\n",
    "    acc3 = accuracy_score(y_test, y_pred3)\n",
    "    \n",
    "    \n",
    "    res1+=acc1\n",
    "    res2+=acc2\n",
    "    res3+=acc3\n",
    "    \n",
    "    print 'test ', i , 'train', i\n",
    "    print '   SVM ',\"Accuracy: {}\".format(acc1)\n",
    "    print \"   RF Accuracy: {}\".format(acc2)\n",
    "    print \"   KNN Accuracy: {}\".format(acc3)\n",
    "print \n",
    "print 'svm avg acc ',res1/10\n",
    "print 'rf avg acc ',res2/10\n",
    "print 'knn avg acc ',res3/10"
   ]
  },
  {
   "cell_type": "code",
   "execution_count": null,
   "metadata": {
    "collapsed": true
   },
   "outputs": [],
   "source": []
  },
  {
   "cell_type": "code",
   "execution_count": null,
   "metadata": {
    "collapsed": true
   },
   "outputs": [],
   "source": []
  }
 ],
 "metadata": {
  "kernelspec": {
   "display_name": "Python 2",
   "language": "python",
   "name": "python2"
  },
  "language_info": {
   "codemirror_mode": {
    "name": "ipython",
    "version": 2
   },
   "file_extension": ".py",
   "mimetype": "text/x-python",
   "name": "python",
   "nbconvert_exporter": "python",
   "pygments_lexer": "ipython2",
   "version": "2.7.6"
  }
 },
 "nbformat": 4,
 "nbformat_minor": 0
}
