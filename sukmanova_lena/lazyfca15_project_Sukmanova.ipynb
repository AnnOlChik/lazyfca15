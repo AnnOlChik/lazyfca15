{
 "cells": [
  {
   "cell_type": "markdown",
   "metadata": {
    "collapsed": true
   },
   "source": [
    "# 1. ВЫБОР ДАТАСЕТА"
   ]
  },
  {
   "cell_type": "markdown",
   "metadata": {},
   "source": [
    "Для реализации домашней работы по анализу данных по курсу \"Упорядоченные множества в анализе данных\" был выбран датасет с результатами двух разных видов терапии, применяемых для лечения детей с онкологическими заболеваниями.\n",
    "\n",
    "**Количество объектов:**  \n",
    "778\n",
    "\n",
    "**Краткое описание полей:**  \n",
    "ID - Идентификационный номер пациента  \n",
    "Sex, Immun, CNS, Mediastinum, Zytogen, Region, Geb_month, Diag_month, syndrome - категориальные признаки  \n",
    "Age, Leuc, Leber, Milz, height, weight - количественные признаки  \n",
    "Better - какое из двух видов лечения лучше. Если 0, то нельзя сказать, какое лучше"
   ]
  },
  {
   "cell_type": "markdown",
   "metadata": {},
   "source": [
    "# 2. ПЕРЕСМОТР ПРОСТРАНСТВА ПРИЗНАКОВ В ВЫБРАННОМ ДАТАСЕТЕ"
   ]
  },
  {
   "cell_type": "markdown",
   "metadata": {},
   "source": [
    "- Импорт датасета"
   ]
  },
  {
   "cell_type": "code",
   "execution_count": 1,
   "metadata": {
    "collapsed": true
   },
   "outputs": [],
   "source": [
    "import pandas as pd\n",
    "\n",
    "data = pd.read_csv('2008_200_300.csv')"
   ]
  },
  {
   "cell_type": "markdown",
   "metadata": {},
   "source": [
    "- Исключение из анализа объектов с пустыми значениями по признакам"
   ]
  },
  {
   "cell_type": "code",
   "execution_count": 2,
   "metadata": {
    "collapsed": true
   },
   "outputs": [],
   "source": [
    "# исключение 24 объектов с пустыми значениями по признаку Zytogen\n",
    "# и 6 объектов с пустыми значениями по признаку Region\n",
    "data = data.dropna()\n",
    "\n",
    "# исключение 6 объектов с нулевыми значениями по признаку Better\n",
    "data = data.drop(data[data.Better == 0].index)"
   ]
  },
  {
   "cell_type": "markdown",
   "metadata": {},
   "source": [
    "- Преобразование количественных признаков в категориальные"
   ]
  },
  {
   "cell_type": "code",
   "execution_count": 3,
   "metadata": {
    "collapsed": true
   },
   "outputs": [],
   "source": [
    "data['Age_c'] = pd.qcut(data['Age'], 5)\n",
    "data['Leuc_c'] = pd.qcut(data['Leuc'], 5)\n",
    "data['Leber_c'] = pd.cut(data['Leber'], 8)\n",
    "data['Milz_c'] = pd.cut(data['Milz'], 5)\n",
    "data['height_c'] = pd.qcut(data['height'], 5)\n",
    "data['weight_c'] = pd.qcut(data['weight'], 5)\n",
    "\n",
    "# Удаление столбцов с количественными признаками + удаление столбца ID\n",
    "data = data.drop(['ID','Age','Leuc','Leber','Milz','height','weight'], 1)"
   ]
  },
  {
   "cell_type": "markdown",
   "metadata": {},
   "source": [
    "- Преобразование категориальных признаков в бинарные"
   ]
  },
  {
   "cell_type": "code",
   "execution_count": 4,
   "metadata": {
    "collapsed": true
   },
   "outputs": [],
   "source": [
    "data = pd.get_dummies(data, columns = ['Sex', 'Immun', 'CNS', 'Mediastinum', 'Zytogen', 'Region', 'Geb_month', 'Diag_month', 'syndrome', 'Age_c', 'Leuc_c', 'Leber_c', 'Milz_c', 'height_c', 'weight_c'])"
   ]
  },
  {
   "cell_type": "markdown",
   "metadata": {},
   "source": [
    "- Замена терапии \"300\" на \"positive\", терапии \"200\" на \"negative\" для удобства последующего анализа"
   ]
  },
  {
   "cell_type": "code",
   "execution_count": 5,
   "metadata": {
    "collapsed": false
   },
   "outputs": [],
   "source": [
    "data.loc[data.Better == 300, 'Better'] = 'positive'\n",
    "data.loc[data.Better == 200, 'Better'] = 'negative'"
   ]
  },
  {
   "cell_type": "markdown",
   "metadata": {},
   "source": [
    "- Сохранение нового датасета"
   ]
  },
  {
   "cell_type": "code",
   "execution_count": 6,
   "metadata": {
    "collapsed": true
   },
   "outputs": [],
   "source": [
    "data.to_csv('2008_200_300_new.csv',index=False)"
   ]
  },
  {
   "cell_type": "markdown",
   "metadata": {},
   "source": [
    "# 3. КРОСС-ВАЛИДАЦИЯ"
   ]
  },
  {
   "cell_type": "code",
   "execution_count": 7,
   "metadata": {
    "collapsed": true
   },
   "outputs": [],
   "source": [
    "newdata = pd.read_csv('2008_200_300_new.csv')\n",
    "\n",
    "from sklearn.cross_validation import KFold\n",
    "\n",
    "kf = KFold(len(newdata), n_folds=10, shuffle=True, random_state=None)\n",
    "for k, (train, test) in enumerate(kf):\n",
    "    newdata.iloc[train].to_csv('train'+str(k+1)+'.csv',index=False,header=False)\n",
    "    newdata.iloc[test].to_csv('test'+str(k+1)+'.csv',index=False,header=False)"
   ]
  },
  {
   "cell_type": "markdown",
   "metadata": {},
   "source": [
    "# 4. РЕАЛИЗАЦИЯ ВСПОМОГАТЕЛЬНЫХ ФУНКЦИЙ"
   ]
  },
  {
   "cell_type": "markdown",
   "metadata": {},
   "source": [
    "- Загрузка train с разделением на положительный и отрицательный контексты + загрузка test"
   ]
  },
  {
   "cell_type": "code",
   "execution_count": 8,
   "metadata": {
    "collapsed": false
   },
   "outputs": [],
   "source": [
    "def load(i):\n",
    "    q = open('train'+str(i)+'.csv', 'r')\n",
    "    train = [a.strip().split(',') for a in q]\n",
    "    plus = [a for a in train if a[0] == 'positive']\n",
    "    minus = [a for a in train if a[0] == 'negative']\n",
    "    q.close()\n",
    "\n",
    "    w = open('test'+str(i)+'.csv','r')\n",
    "    unknown = [a.strip().split(',') for a in w]\n",
    "    w.close\n",
    "    return plus, minus, unknown"
   ]
  },
  {
   "cell_type": "markdown",
   "metadata": {},
   "source": [
    "- Приведение в необходимый формат рассматриваемого понятия"
   ]
  },
  {
   "cell_type": "code",
   "execution_count": 9,
   "metadata": {
    "collapsed": false
   },
   "outputs": [],
   "source": [
    "attrib_names = list(newdata)\n",
    "\n",
    "def make_intent(example):\n",
    "    return set([i+':'+str(k) for i, k in zip(attrib_names,example)])"
   ]
  },
  {
   "cell_type": "markdown",
   "metadata": {},
   "source": [
    "- Создание формул для расчета метрик качества"
   ]
  },
  {
   "cell_type": "code",
   "execution_count": 10,
   "metadata": {
    "collapsed": true
   },
   "outputs": [],
   "source": [
    "def accuracy(r):\n",
    "    return float(r[\"TP\"] + r[\"TN\"]) / max(1, r[\"TP\"] + r[\"TN\"] + r[\"FP\"] + r[\"FN\"] + r[\"contradictory\"])\n",
    "\n",
    "def precision(r):\n",
    "    return float(r[\"TP\"]) / max(1, r[\"TP\"] + r[\"FP\"])\n",
    "\n",
    "def recall(r):\n",
    "    return float(r[\"TP\"]) / max(1, r[\"TP\"] + r[\"FN\"])\n",
    "\n",
    "def results(r):\n",
    "    metrics = {}\n",
    "    metrics[\"accuracy\"] = accuracy(r)\n",
    "    metrics[\"precision\"] = precision(r)\n",
    "    metrics[\"recall\"] = recall(r)\n",
    "    return metrics"
   ]
  },
  {
   "cell_type": "markdown",
   "metadata": {},
   "source": [
    "# 5.  РЕАЛИЗАЦИЯ АЛГОРИТМОВ"
   ]
  },
  {
   "cell_type": "markdown",
   "metadata": {},
   "source": [
    "# Алгоритм 1"
   ]
  },
  {
   "cell_type": "markdown",
   "metadata": {},
   "source": [
    "Пример классифицируется положительно, если каждое его пересечение с объектами из плюс-контекста вкладывается не более, чем в 2 описания из минус-контекста (и наоборот)."
   ]
  },
  {
   "cell_type": "code",
   "execution_count": 11,
   "metadata": {
    "collapsed": true
   },
   "outputs": [],
   "source": [
    "def algorithm1(context_plus, context_minus, example):\n",
    "    eintent = make_intent(example)\n",
    "    eintent.discard('Better:positive')\n",
    "    eintent.discard('Better:negative')\n",
    "    labels = {\"positive\": True, \"negative\": True}\n",
    "    for e in context_plus:\n",
    "        ei = make_intent(e)\n",
    "        candidate_intent = ei & eintent\n",
    "        closure = [make_intent(i) for i in context_minus if make_intent(i).issuperset(candidate_intent)]\n",
    "        if len(closure) > 2:\n",
    "            labels[\"positive\"] = False\n",
    "            break\n",
    "    for e in context_minus:\n",
    "        ei = make_intent(e)\n",
    "        candidate_intent = ei & eintent\n",
    "        closure = [make_intent(i) for i in context_plus if make_intent(i).issuperset(candidate_intent)]\n",
    "        if len(closure) > 2:\n",
    "            labels[\"negative\"] = False\n",
    "            break\n",
    "\n",
    "    if not labels[\"positive\"] ^ labels[\"negative\"]:\n",
    "       return \"contradictory\"\n",
    "    if example[0] == \"positive\" and labels[\"positive\"]:\n",
    "       return \"TP\"\n",
    "    if example[0] == \"positive\" and labels[\"negative\"]:\n",
    "       return \"FN\"\n",
    "    if example[0] == \"negative\" and labels[\"positive\"]:\n",
    "       return \"FP\"\n",
    "    if example[0] == \"negative\" and labels[\"negative\"]:\n",
    "       return \"TN\""
   ]
  },
  {
   "cell_type": "markdown",
   "metadata": {},
   "source": [
    "# Алгоритм 2"
   ]
  },
  {
   "cell_type": "markdown",
   "metadata": {},
   "source": [
    "Каждый объект из плюс-контекста 'голосует' за положительную классификацию, если его пересечение с примером не вкладывается в описания из минус-конекста (и наоборот). Пример классифицируется положительно, если преобладает количество 'голосов' за положительную классификацию (и наоборот)."
   ]
  },
  {
   "cell_type": "code",
   "execution_count": 12,
   "metadata": {
    "collapsed": true
   },
   "outputs": [],
   "source": [
    "def algorithm2(context_plus, context_minus, example):\n",
    "    eintent = make_intent(example)\n",
    "    eintent.discard('Better:positive')\n",
    "    eintent.discard('Better:negative')\n",
    "    labels = {\"positive\": 0, \"negative\": 0}\n",
    "    for e in context_plus:\n",
    "        ei = make_intent(e)\n",
    "        candidate_intent = ei & eintent\n",
    "        closure = [make_intent(i) for i in context_minus if make_intent(i).issuperset(candidate_intent)]\n",
    "        if not closure:\n",
    "            labels[\"positive\"] += 1\n",
    "    for e in context_minus:\n",
    "        ei = make_intent(e)\n",
    "        candidate_intent = ei & eintent\n",
    "        closure = [make_intent(i) for i in context_plus if make_intent(i).issuperset(candidate_intent)]\n",
    "        if not closure:\n",
    "            labels[\"negative\"] += 1\n",
    "            \n",
    "    labels[\"positive\"] = float(labels[\"positive\"]) / len(context_plus)\n",
    "    labels[\"negative\"] = float(labels[\"negative\"]) / len(context_minus)\n",
    "    if labels[\"positive\"] > labels[\"negative\"]:\n",
    "        if example[0] == \"positive\":\n",
    "            return \"TP\"\n",
    "        else:\n",
    "            return \"FP\"\n",
    "    elif labels[\"positive\"] < labels[\"negative\"]:\n",
    "        if example[0] == \"negative\":\n",
    "            return \"TN\"\n",
    "        else:\n",
    "            return \"FN\"\n",
    "    else:\n",
    "       return \"contradictory\""
   ]
  },
  {
   "cell_type": "markdown",
   "metadata": {},
   "source": [
    "# Алгоритм 3"
   ]
  },
  {
   "cell_type": "markdown",
   "metadata": {},
   "source": [
    "Пример классифицируется положительно, если его относительная поддержка в плюс-контексте превышает его относительную поддержку в минус-контексте (и наоборот)."
   ]
  },
  {
   "cell_type": "code",
   "execution_count": 13,
   "metadata": {
    "collapsed": false
   },
   "outputs": [],
   "source": [
    "def algorithm3(context_plus, context_minus, example):\n",
    "    eintent = make_intent(example)\n",
    "    eintent.discard('Better:positive')\n",
    "    eintent.discard('Better:negative')\n",
    "    labels = {\"positive\": 0, \"negative\": 0}\n",
    "    len_context_plus = len(context_plus)\n",
    "    len_context_minus = len(context_minus)\n",
    "    for e in context_plus:\n",
    "        ei = make_intent(e)\n",
    "        candidate_intent = ei & eintent\n",
    "        support = [make_intent(i) for i in context_plus if make_intent(i).issuperset(candidate_intent)]\n",
    "        labels[\"positive\"] += float(len(support)) / len_context_plus\n",
    "    for e in context_minus:\n",
    "        ei = make_intent(e)\n",
    "        candidate_intent = ei & eintent\n",
    "        support = [make_intent(i) for i in context_minus if make_intent(i).issuperset(candidate_intent)]\n",
    "        labels[\"negative\"] += float(len(support)) / len_context_minus\n",
    "\n",
    "    labels[\"positive\"] = float(labels[\"positive\"]) / len_context_plus\n",
    "    labels[\"negative\"] = float(labels[\"negative\"]) / len_context_minus\n",
    "    if labels[\"positive\"] > labels[\"negative\"]:\n",
    "        if example[0] == \"positive\":\n",
    "            return \"TP\"\n",
    "        else:\n",
    "            return \"FP\"\n",
    "    elif labels[\"positive\"] < labels[\"negative\"]:\n",
    "        if example[0] == \"negative\":\n",
    "            return \"TN\"\n",
    "        else:\n",
    "            return \"FN\"\n",
    "    else:\n",
    "       return \"contradictory\""
   ]
  },
  {
   "cell_type": "markdown",
   "metadata": {},
   "source": [
    "# Алгоритм 4"
   ]
  },
  {
   "cell_type": "markdown",
   "metadata": {},
   "source": [
    "Продолжая тему наивности (ха-ха), давайте реализуем алгоритм Наивного Байеса. Он является одним из самых известных алгоритмов машинного обучения, основной задачей которого является восстановление плотностей распределения данных обучающей выборки."
   ]
  },
  {
   "cell_type": "code",
   "execution_count": 14,
   "metadata": {
    "collapsed": false
   },
   "outputs": [],
   "source": [
    "def BernoulliNaiveBayes():\n",
    "    # time on\n",
    "    import timeit\n",
    "    start = timeit.default_timer()\n",
    "    \n",
    "    # open binary dataset and separate the data from the target attributes\n",
    "    q = open('2008_200_300_new.csv', 'r')\n",
    "    dataset = [a.strip().split(',') for a in q]\n",
    "    dataset = dataset[1:]\n",
    "    q.close()\n",
    "    \n",
    "    import numpy as np\n",
    "    A = np.array(dataset)\n",
    "    X = A[:,1:].astype(float)\n",
    "    Y = A[:,0]\n",
    "    \n",
    "    # run BernoulliNB() on our dataset\n",
    "    from sklearn.naive_bayes import BernoulliNB\n",
    "    from sklearn import cross_validation\n",
    "    from sklearn.preprocessing import LabelBinarizer\n",
    "    model = BernoulliNB()\n",
    "    model.fit(X, Y)\n",
    "    \n",
    "    # find out results\n",
    "    acc = np.mean(cross_validation.cross_val_score(model, X, Y, cv=10))\n",
    "    \n",
    "    # binarize target to find precision and recall\n",
    "    lb = LabelBinarizer()\n",
    "    Y = np.array([number[0] for number in lb.fit_transform(Y)])\n",
    "    \n",
    "    prec = np.mean(cross_validation.cross_val_score(model, X, Y, cv=10, scoring = 'precision'))\n",
    "    rec = np.mean(cross_validation.cross_val_score(model, X, Y, cv=10, scoring = 'recall'))\n",
    "    \n",
    "    # time off\n",
    "    stop = timeit.default_timer()\n",
    "    time = stop - start\n",
    "\n",
    "    return acc, prec, rec, time"
   ]
  },
  {
   "cell_type": "markdown",
   "metadata": {},
   "source": [
    "# 6. ЗАПУСК АЛГОРИТМОВ И ПОДВЕДЕНИЕ ИТОГОВ ПО МЕТРИКАМ"
   ]
  },
  {
   "cell_type": "markdown",
   "metadata": {},
   "source": [
    "- Функция запуска алгоритмов (для 1-3) и подведения итогов"
   ]
  },
  {
   "cell_type": "code",
   "execution_count": 15,
   "metadata": {
    "collapsed": false
   },
   "outputs": [],
   "source": [
    "def summary(algorithm_name):\n",
    "    # time on\n",
    "    import timeit\n",
    "    start = timeit.default_timer()\n",
    "\n",
    "    acc = 0\n",
    "    prec = 0\n",
    "    rec = 0\n",
    "    for index in range(1,11):\n",
    "        (iplus, iminus, iunknown) = load(index)\n",
    "        cv_res = {\n",
    "            \"TP\": 0,\n",
    "            \"TN\": 0,\n",
    "            \"FP\": 0,\n",
    "            \"FN\": 0,\n",
    "            \"contradictory\": 0,\n",
    "            }\n",
    "        for elem in iunknown:\n",
    "            pin = algorithm_name(iplus, iminus, elem)\n",
    "            cv_res[pin] += 1\n",
    "        res = results(cv_res)\n",
    "        acc += res['accuracy']\n",
    "        prec += res['precision']\n",
    "        rec += res['recall']\n",
    "    \n",
    "    # find mean results for cross-validation\n",
    "    acc = acc/10\n",
    "    prec = prec/10\n",
    "    rec = rec/10\n",
    "    \n",
    "    # time off    \n",
    "    stop = timeit.default_timer()\n",
    "    time = stop - start\n",
    "\n",
    "    return acc, prec, rec, time"
   ]
  },
  {
   "cell_type": "markdown",
   "metadata": {},
   "source": [
    "- Запуск Алгоритма 1 и подведение итогов"
   ]
  },
  {
   "cell_type": "code",
   "execution_count": 16,
   "metadata": {
    "collapsed": false
   },
   "outputs": [
    {
     "name": "stdout",
     "output_type": "stream",
     "text": [
      "Accurcy: 12.772972972972973%\n",
      "Precision: 96.73076923076923%\n",
      "Recall: 95.32467532467534%\n",
      "Time of algorithm work: 9304.81378628299\n"
     ]
    }
   ],
   "source": [
    "(a1,p1,r1,time1) = summary(algorithm1)\n",
    "print('Accurcy: '+str(a1*100)+'%')\n",
    "print('Precision: '+str(p1*100)+'%')\n",
    "print('Recall: '+str(r1*100)+'%')\n",
    "print('Time of algorithm work: '+str(time1))"
   ]
  },
  {
   "cell_type": "markdown",
   "metadata": {},
   "source": [
    "- Запуск Алгоритма 2 и подведение итогов"
   ]
  },
  {
   "cell_type": "code",
   "execution_count": 17,
   "metadata": {
    "collapsed": false
   },
   "outputs": [
    {
     "name": "stdout",
     "output_type": "stream",
     "text": [
      "Accurcy: 77.01981981981983%\n",
      "Precision: 80.6285098120081%\n",
      "Recall: 86.90841576918024%\n",
      "Time of algorithm work: 8877.838668775003\n"
     ]
    }
   ],
   "source": [
    "(a2,p2,r2,time2) = summary(algorithm2)\n",
    "print('Accurcy: '+str(a2*100)+'%')\n",
    "print('Precision: '+str(p2*100)+'%')\n",
    "print('Recall: '+str(r2*100)+'%')\n",
    "print('Time of algorithm work: '+str(time2))"
   ]
  },
  {
   "cell_type": "markdown",
   "metadata": {},
   "source": [
    "- Запуск Алгоритма 3 и подведение итогов"
   ]
  },
  {
   "cell_type": "code",
   "execution_count": 18,
   "metadata": {
    "collapsed": false
   },
   "outputs": [
    {
     "name": "stdout",
     "output_type": "stream",
     "text": [
      "Accurcy: 33.59639639639639%\n",
      "Precision: 20.0%\n",
      "Recall: 0.5744520030234316%\n",
      "Time of algorithm work: 11359.37753788702\n"
     ]
    }
   ],
   "source": [
    "(a3,p3,r3,time3) = summary(algorithm3)\n",
    "print('Accurcy: '+str(a3*100)+'%')\n",
    "print('Precision: '+str(p3*100)+'%')\n",
    "print('Recall: '+str(r3*100)+'%')\n",
    "print('Time of algorithm work: '+str(time3))"
   ]
  },
  {
   "cell_type": "markdown",
   "metadata": {},
   "source": [
    "- Запуск Алгоритма 4 и подведение итогов"
   ]
  },
  {
   "cell_type": "code",
   "execution_count": 19,
   "metadata": {
    "collapsed": false
   },
   "outputs": [
    {
     "name": "stdout",
     "output_type": "stream",
     "text": [
      "Accurcy: 80.3397260274%\n",
      "Precision: 89.6280133232%\n",
      "Recall: 79.8489795918%\n",
      "Time of algorithm work: 0.17655974900117144\n"
     ]
    }
   ],
   "source": [
    "(a4,p4,r4,time4) = BernoulliNaiveBayes()\n",
    "print('Accurcy: '+str(a4*100)+'%')\n",
    "print('Precision: '+str(p4*100)+'%')\n",
    "print('Recall: '+str(r4*100)+'%')\n",
    "print('Time of algorithm work: '+str(time4))"
   ]
  },
  {
   "cell_type": "markdown",
   "metadata": {},
   "source": [
    "Таким образом, наиболее высокую точность из представленных выше \"ленивых\" алгоритмов дал Алгоритм 2 (с 'голосованием'). Его точность почти совпадает с точностью алгоритма Наивного Байеса, однако время работы алгоритма сильно уступает."
   ]
  }
 ],
 "metadata": {
  "kernelspec": {
   "display_name": "Python 3",
   "language": "python",
   "name": "python3"
  },
  "language_info": {
   "codemirror_mode": {
    "name": "ipython",
    "version": 3
   },
   "file_extension": ".py",
   "mimetype": "text/x-python",
   "name": "python",
   "nbconvert_exporter": "python",
   "pygments_lexer": "ipython3",
   "version": "3.4.3"
  }
 },
 "nbformat": 4,
 "nbformat_minor": 0
}
